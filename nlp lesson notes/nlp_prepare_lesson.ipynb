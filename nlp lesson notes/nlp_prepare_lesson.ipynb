{
 "cells": [
  {
   "cell_type": "code",
   "execution_count": 1,
   "id": "35d80906",
   "metadata": {},
   "outputs": [
    {
     "data": {
      "application/javascript": [
       "IPython.notebook.set_autosave_interval(0)"
      ]
     },
     "metadata": {},
     "output_type": "display_data"
    },
    {
     "name": "stdout",
     "output_type": "stream",
     "text": [
      "Autosave disabled\n"
     ]
    }
   ],
   "source": [
    "%autosave 0"
   ]
  },
  {
   "cell_type": "markdown",
   "id": "f9a8f7de",
   "metadata": {},
   "source": [
    "Run this command in your terminal! It downloads stopwords for the nltk library.\n",
    "\n",
    "python -c \"import nltk; nltk.download('stopwords')\""
   ]
  },
  {
   "cell_type": "markdown",
   "id": "e866172b",
   "metadata": {},
   "source": [
    "Here we have some new imports! We will need unicodedata to standardize our text characters, re (regex library) to remove special characters, and many items from the nltk (natural language toolkit) library to remove stopwords and stem/lemmatize our text."
   ]
  },
  {
   "cell_type": "code",
   "execution_count": 13,
   "id": "a89f03ef",
   "metadata": {},
   "outputs": [],
   "source": [
    "import pandas as pd\n",
    "\n",
    "import unicodedata # lib to standardize characters\n",
    "import re\n",
    "\n",
    "import nltk # natural language tool kit lib for all operations\n",
    "from nltk.tokenize.toktok import ToktokTokenizer\n",
    "from nltk.corpus import stopwords"
   ]
  },
  {
   "cell_type": "markdown",
   "id": "3be67066",
   "metadata": {},
   "source": [
    "We will work with an explanation of string theory from my website. It has special characters and long words, which will help us visualize the effects our operations have on text data!"
   ]
  },
  {
   "cell_type": "code",
   "execution_count": 3,
   "id": "639db9c8",
   "metadata": {},
   "outputs": [],
   "source": [
    "data = \"Advanced: String theory is a mathematical framework that proposes to be a theory of quantum gravity, seeking to reconcile general relativity (which describes gravity on a large scale) and quantum mechanics (which describes the behavior of particles at a microscopic level). It introduces the idea that the fundamental building blocks of the universe are not particles, but rather one-dimensional strings of energy. These strings can vibrate at different frequencies, giving rise to different types of particles and forces. String theory also requires the existence of additional dimensions beyond the three spatial dimensions we are familiar with, which are compactified or curled up into tiny sizes.\""
   ]
  },
  {
   "cell_type": "markdown",
   "id": "c9d0c6fa",
   "metadata": {},
   "source": [
    "Let's start off by converting all text to lowercase."
   ]
  },
  {
   "cell_type": "code",
   "execution_count": 15,
   "id": "ab5249eb",
   "metadata": {},
   "outputs": [
    {
     "data": {
      "text/plain": [
       "'advanced string theory is a mathematical framework that proposes to be a theory of quantum gravity seeking to reconcile general relativity which describes gravity on a large scale and quantum mechanics which describes the behavior of particles at a microscopic level it introduces the idea that the fundamental building blocks of the universe are not particles but rather onedimensional strings of energy these strings can vibrate at different frequencies giving rise to different types of particles and forces string theory also requires the existence of additional dimensions beyond the three spatial dimensions we are familiar with which are compactified or curled up into tiny sizes'"
      ]
     },
     "execution_count": 15,
     "metadata": {},
     "output_type": "execute_result"
    }
   ],
   "source": [
    "data = data.lower()\n",
    "data#[:100]"
   ]
  },
  {
   "cell_type": "markdown",
   "id": "452f0b94",
   "metadata": {},
   "source": [
    "Now we can go through a series of steps to remove some special characters, such as accented characters in other languages. We may not see much of an effect with this particular example."
   ]
  },
  {
   "cell_type": "code",
   "execution_count": 5,
   "id": "9e77460f",
   "metadata": {},
   "outputs": [
    {
     "data": {
      "text/plain": [
       "'advanced: string theory is a mathematical framework that proposes to be a theory of quantum gravity,'"
      ]
     },
     "execution_count": 5,
     "metadata": {},
     "output_type": "execute_result"
    }
   ],
   "source": [
    "data = unicodedata.normalize('NFKD', data)\\\n",
    "    .encode('ascii', 'ignore')\\\n",
    "    .decode('utf-8', 'ignore')\n",
    "\n",
    "data[:100]"
   ]
  },
  {
   "cell_type": "markdown",
   "id": "417c4932",
   "metadata": {},
   "source": [
    "Let's use the regex library to substitute out all characters we don't want."
   ]
  },
  {
   "cell_type": "code",
   "execution_count": 16,
   "id": "a9cc63c4",
   "metadata": {},
   "outputs": [
    {
     "data": {
      "text/plain": [
       "'advanced string theory is a mathematical framework that proposes to be a theory of quantum gravity s'"
      ]
     },
     "execution_count": 16,
     "metadata": {},
     "output_type": "execute_result"
    }
   ],
   "source": [
    "data = re.sub(r\"[^a-z0-9'\\s]\", \"\", data) # carrot symbol returns any value notequal to regex statement and return it with nothing.\n",
    "data[:100]"
   ]
  },
  {
   "cell_type": "markdown",
   "id": "3b3bd908",
   "metadata": {},
   "source": [
    "We can create an instance of the ToktokTokenizer object and use it to tokenize our data. This doesn't have a visual effect."
   ]
  },
  {
   "cell_type": "code",
   "execution_count": 7,
   "id": "f5d0aa78",
   "metadata": {},
   "outputs": [
    {
     "data": {
      "text/plain": [
       "'advanced string theory is a mathematical framework that proposes to be a theory of quantum gravity s'"
      ]
     },
     "execution_count": 7,
     "metadata": {},
     "output_type": "execute_result"
    }
   ],
   "source": [
    "tokenizer = ToktokTokenizer()\n",
    "\n",
    "data = tokenizer.tokenize(data, return_str=True)\n",
    "\n",
    "data[:100]"
   ]
  },
  {
   "cell_type": "markdown",
   "id": "beb444bf",
   "metadata": {},
   "source": [
    "Let's retrieve a list of stopwords from the nltk library. As you can see, the words in the stopwords list are common words we use in English, but they don't contribute much meaning to a sentence."
   ]
  },
  {
   "cell_type": "code",
   "execution_count": 21,
   "id": "31af184a",
   "metadata": {},
   "outputs": [
    {
     "name": "stdout",
     "output_type": "stream",
     "text": [
      "['i', 'me', 'my', 'myself', 'we', 'our', 'ours', 'ourselves', 'you', \"you're\"]\n",
      "\n",
      "\n",
      "\n",
      "\n",
      "['i', 'me', 'my', 'myself', 'we', 'our', 'ours', 'ourselves', 'you', \"you're\", \"you've\", \"you'll\", \"you'd\", 'your', 'yours', 'yourself', 'yourselves', 'he', 'him', 'his', 'himself', 'she', \"she's\", 'her', 'hers', 'herself', 'it', \"it's\", 'its', 'itself', 'they', 'them', 'their', 'theirs', 'themselves', 'what', 'which', 'who', 'whom', 'this', 'that', \"that'll\", 'these', 'those', 'am', 'is', 'are', 'was', 'were', 'be', 'been', 'being', 'have', 'has', 'had', 'having', 'do', 'does', 'did', 'doing', 'a', 'an', 'the', 'and', 'but', 'if', 'or', 'because', 'as', 'until', 'while', 'of', 'at', 'by', 'for', 'with', 'about', 'against', 'between', 'into', 'through', 'during', 'before', 'after', 'above', 'below', 'to', 'from', 'up', 'down', 'in', 'out', 'on', 'off', 'over', 'under', 'again', 'further', 'then', 'once', 'here', 'there', 'when', 'where', 'why', 'how', 'all', 'any', 'both', 'each', 'few', 'more', 'most', 'other', 'some', 'such', 'no', 'nor', 'not', 'only', 'own', 'same', 'so', 'than', 'too', 'very', 's', 't', 'can', 'will', 'just', 'don', \"don't\", 'should', \"should've\", 'now', 'd', 'll', 'm', 'o', 're', 've', 'y', 'ain', 'aren', \"aren't\", 'couldn', \"couldn't\", 'didn', \"didn't\", 'doesn', \"doesn't\", 'hadn', \"hadn't\", 'hasn', \"hasn't\", 'haven', \"haven't\", 'isn', \"isn't\", 'ma', 'mightn', \"mightn't\", 'mustn', \"mustn't\", 'needn', \"needn't\", 'shan', \"shan't\", 'shouldn', \"shouldn't\", 'wasn', \"wasn't\", 'weren', \"weren't\", 'won', \"won't\", 'wouldn', \"wouldn't\"]\n"
     ]
    }
   ],
   "source": [
    "stopwords_list = stopwords.words('english')\n",
    "print(stopwords_list[:10])\n",
    "print('\\n\\n\\n')\n",
    "print(stopwords_list)"
   ]
  },
  {
   "cell_type": "markdown",
   "id": "8723ef01",
   "metadata": {},
   "source": [
    "**With a simple list comprehension, we can remove all words from our corpus that are found in the stopwords list.**"
   ]
  },
  {
   "cell_type": "markdown",
   "id": "f505778d-030f-4d4d-abfb-5fc4f91af8cc",
   "metadata": {},
   "source": [
    "#### words = [: This line initializes a new list called words to store the words from the input data that are not in the stopwords_list.\n",
    "\n",
    "#### word for word in data.split(): This is the beginning of the list comprehension. It iterates over each word obtained by splitting the string data. The data.split() method divides the string into words using space as a delimiter.\n",
    "\n",
    "#### if word not in stopwords_list]: This is a conditional clause. It checks if the word is not found in the stopwords_list, which is presumably a list of common words to be excluded. If the word is not in stopwords_list, it is included in the words list."
   ]
  },
  {
   "cell_type": "code",
   "execution_count": 22,
   "id": "978e28fb",
   "metadata": {},
   "outputs": [
    {
     "name": "stdout",
     "output_type": "stream",
     "text": [
      "['advanced', 'string', 'theory', 'mathematical', 'framework', 'proposes', 'theory', 'quantum', 'gravity', 'seeking']\n",
      "\n",
      "\n",
      "\n",
      "\n",
      "['advanced', 'string', 'theory', 'mathematical', 'framework', 'proposes', 'theory', 'quantum', 'gravity', 'seeking', 'reconcile', 'general', 'relativity', 'describes', 'gravity', 'large', 'scale', 'quantum', 'mechanics', 'describes', 'behavior', 'particles', 'microscopic', 'level', 'introduces', 'idea', 'fundamental', 'building', 'blocks', 'universe', 'particles', 'rather', 'onedimensional', 'strings', 'energy', 'strings', 'vibrate', 'different', 'frequencies', 'giving', 'rise', 'different', 'types', 'particles', 'forces', 'string', 'theory', 'also', 'requires', 'existence', 'additional', 'dimensions', 'beyond', 'three', 'spatial', 'dimensions', 'familiar', 'compactified', 'curled', 'tiny', 'sizes']\n"
     ]
    }
   ],
   "source": [
    "words = [word for word in data.split() if word not in stopwords_list]\n",
    "print(words[:10])\n",
    "print('\\n\\n\\n')\n",
    "print(words)\n"
   ]
  },
  {
   "cell_type": "markdown",
   "id": "c5db9dfa",
   "metadata": {},
   "source": [
    "We can use the .join() string method to recompile our words into a single string."
   ]
  },
  {
   "cell_type": "code",
   "execution_count": 25,
   "id": "40b2b73e",
   "metadata": {},
   "outputs": [
    {
     "name": "stdout",
     "output_type": "stream",
     "text": [
      "advanced string theory mathematical framework proposes theory quantum gravity seeking reconcile gene\n",
      "\n",
      "\n",
      "\n",
      "\n",
      "advanced string theory mathematical framework proposes theory quantum gravity seeking reconcile general relativity describes gravity large scale quantum mechanics describes behavior particles microscopic level introduces idea fundamental building blocks universe particles rather onedimensional strings energy strings vibrate different frequencies giving rise different types particles forces string theory also requires existence additional dimensions beyond three spatial dimensions familiar compactified curled tiny sizes\n"
     ]
    }
   ],
   "source": [
    "new_data = ' '.join(words)\n",
    "print(new_data[:100])\n",
    "print('\\n\\n\\n')\n",
    "print(new_data)"
   ]
  },
  {
   "cell_type": "markdown",
   "id": "1b65f557",
   "metadata": {},
   "source": [
    "We can create an instance of the PorterStemmer object and use it to stem our words. Note that many of the resulting words are not found in the dictionary!"
   ]
  },
  {
   "cell_type": "code",
   "execution_count": 33,
   "id": "1e61765c-b3c0-4ec2-93d1-2c0a68dbee7f",
   "metadata": {},
   "outputs": [],
   "source": [
    "# more aggresive"
   ]
  },
  {
   "cell_type": "code",
   "execution_count": 27,
   "id": "9bafa5a9",
   "metadata": {},
   "outputs": [
    {
     "name": "stdout",
     "output_type": "stream",
     "text": [
      "advanc string theori mathemat framework propos theori quantum graviti seek reconcil gener rel descri\n",
      "\n",
      "\n",
      "\n",
      "\n",
      "advanc string theori mathemat framework propos theori quantum graviti seek reconcil gener rel describ graviti larg scale quantum mechan describ behavior particl microscop level introduc idea fundament build block univers particl rather onedimension string energi string vibrat differ frequenc give rise differ type particl forc string theori also requir exist addit dimens beyond three spatial dimens familiar compactifi curl tini size\n"
     ]
    }
   ],
   "source": [
    "ps = nltk.porter.PorterStemmer() #PorterStemment object\n",
    "\n",
    "stems = [ps.stem(word) for word in words] # i want my porter stem object to stem a word in my lst of words\n",
    "\n",
    "stemmed_data = ' '.join(stems) # joing my stems into a sentence again.\n",
    "\n",
    "print(stemmed_data[:100])\n",
    "print('\\n\\n\\n')\n",
    "print(stemmed_data)"
   ]
  },
  {
   "cell_type": "markdown",
   "id": "a4fb2796",
   "metadata": {},
   "source": [
    "We can also use the WordNetLemmatizer. Note that it hardly changes text from its original form."
   ]
  },
  {
   "cell_type": "code",
   "execution_count": 32,
   "id": "b7c48811-02aa-493f-b003-6065a64b2f22",
   "metadata": {},
   "outputs": [],
   "source": [
    "# less aggresive"
   ]
  },
  {
   "cell_type": "code",
   "execution_count": 31,
   "id": "6b8cefb0",
   "metadata": {},
   "outputs": [
    {
     "name": "stdout",
     "output_type": "stream",
     "text": [
      "advanced string theory mathematical framework proposes theory quantum gravity seeking reconcile gene\n",
      "\n",
      "\n",
      "\n",
      "\n",
      "advanced string theory mathematical framework proposes theory quantum gravity seeking reconcile general relativity describes gravity large scale quantum mechanic describes behavior particle microscopic level introduces idea fundamental building block universe particle rather onedimensional string energy string vibrate different frequency giving rise different type particle force string theory also requires existence additional dimension beyond three spatial dimension familiar compactified curled tiny size\n"
     ]
    }
   ],
   "source": [
    "wnl = nltk.stem.WordNetLemmatizer()\n",
    "\n",
    "lemmas = [wnl.lemmatize(word) for word in words] # for loop to iterate through words from initial text data to apply lemmatizer object\n",
    "\n",
    "lemmatized_data = ' '.join(lemmas)\n",
    "\n",
    "print(lemmatized_data[:100])\n",
    "print('\\n\\n\\n')\n",
    "print(lemmatized_data)"
   ]
  }
 ],
 "metadata": {
  "kernelspec": {
   "display_name": "Python 3 (ipykernel)",
   "language": "python",
   "name": "python3"
  },
  "language_info": {
   "codemirror_mode": {
    "name": "ipython",
    "version": 3
   },
   "file_extension": ".py",
   "mimetype": "text/x-python",
   "name": "python",
   "nbconvert_exporter": "python",
   "pygments_lexer": "ipython3",
   "version": "3.10.9"
  }
 },
 "nbformat": 4,
 "nbformat_minor": 5
}
