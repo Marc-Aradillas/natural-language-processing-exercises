{
 "cells": [
  {
   "cell_type": "code",
   "execution_count": 1,
   "id": "d0a2349f-8c6d-4509-a205-9da9e655d46b",
   "metadata": {},
   "outputs": [],
   "source": [
    "from requests import get\n",
    "from bs4 import BeautifulSoup\n",
    "import os"
   ]
  },
  {
   "cell_type": "code",
   "execution_count": 3,
   "id": "aee91871-6d65-49e1-a140-d547f6dcb384",
   "metadata": {},
   "outputs": [],
   "source": [
    "url = 'https://codeup.com/data-science/math-in-data-science/'\n",
    "headers = {'User-Agent': 'Codeup Data Science'} # Some websites don't accept the pyhon-requests default user-agent\n",
    "response = get(url, headers=headers)"
   ]
  },
  {
   "cell_type": "markdown",
   "id": "88610758-3c09-4d33-8d5f-92285ff4a5ce",
   "metadata": {},
   "source": [
    "### ensuring what we are scraping is html data"
   ]
  },
  {
   "cell_type": "code",
   "execution_count": 4,
   "id": "a8b202a9-ed83-4742-adcf-9b79cae81d41",
   "metadata": {},
   "outputs": [
    {
     "name": "stdout",
     "output_type": "stream",
     "text": [
      "<!DOCTYPE html>\n",
      "<html lang=\"en-US\">\n",
      "<head>\n",
      "\t<meta charset=\"UTF-8\" />\n",
      "<meta http-equiv=\"X-UA-Compatible\" content=\"IE=edge\">\n",
      "\t<link rel=\"pingback\" href=\"https://codeup.edu/xmlrpc.php\" />\n",
      "\n",
      "\t<script type=\"text/javascript\">\n",
      "\t\tdocument.documentElement.className = 'js';\n",
      "\t</script>\n",
      "\t\n",
      "\t<link rel=\"preconnect\" href=\"https://fonts.gstatic.com\" crossorigin /><script id=\"diviarea-loader\">window.DiviPopupData=wi\n"
     ]
    }
   ],
   "source": [
    "print(response.text[:400])"
   ]
  },
  {
   "cell_type": "code",
   "execution_count": 6,
   "id": "14c05de3-09d7-4ce2-9700-0a4442ed9ed7",
   "metadata": {},
   "outputs": [],
   "source": [
    "# Make a soup variable holding the response content\n",
    "soup = BeautifulSoup(response.content, 'html.parser')"
   ]
  },
  {
   "cell_type": "markdown",
   "id": "b97ba29f-925e-48a0-978d-3d1de3342ccc",
   "metadata": {},
   "source": [
    "## Beautiful Soup Methods and Properties  \n",
    "\n",
    "- **`soup.title.string`** gets the page's title (the same text in the browser tab for a page, this is the `<title>` element  \n",
    "\n",
    "- **`soup.prettify()`** is useful to print in case you want to see the HTML\n",
    "  \n",
    "- **`soup.find_all(\"a\")`** find all the anchor tags, or whatever argument is specified.\n",
    "  \n",
    "- **`soup.find(\"h1\")`** finds the first matching element\n",
    "  \n",
    "- **`soup.get_text()`** gets the text from within a matching piece of soup/HTML\n",
    "  \n",
    "- The **`soup.select()`** method takes in a CSS selector as a string and returns all matching elements. super useful"
   ]
  },
  {
   "cell_type": "code",
   "execution_count": 11,
   "id": "55cc6944-1961-4b5c-af9a-780574139776",
   "metadata": {},
   "outputs": [
    {
     "data": {
      "text/plain": [
       "'\\n\\n\\n\\n\\n\\nWhat are the Math and Stats Principles You Need for Data Science?\\nOct 21, 2020 | Data Science\\n\\n\\nComing into our Data Science program, you will need to know some math and stats. However, many of our applicants actually learn in the application process – you don’t need to be an expert before applying! Data science is a very accessible field to anyone dedicated to learning new skills, and we can work with any applicant to help them learn what they need to know. But what “skills” do we mean, exactly? Just what exactly are the data science math and stats principles you need to know?\\nWhat are the main math principles you need to know to get into Codeup’s Data Science program?\\n\\n\\nAlgebra\\nDo you know PEMDAS and can you solve for x? You will need to be or become comfortable with the following:\\xa0\\n\\nVariables (x, y, n, etc.)\\nFormulas, functions, and variable manipulations (e.g. x^2 = x + 6, solve for x).\\nOrder of evaluation: PEMDAS: parentheses, exponents, then multiplication, division, addition, and subtraction\\nCommutativity where a + b = b + a\\nAssociativity where a + (b + c) = (a + b) + c\\nAdding and subtracting matrices\\nA conceptual understanding of exponential growth/decay- things can increase at an increasing rate\\n\\nDescriptive Statistics\\nKnow what a min, max, mode, median, and average are. Have a conceptual understanding that stats/probability is about trying to quantify uncertainty.\\nData Visualization\\nKnow what a scatterplot is and how to read a barplot.\\nHow to Learn and Expand on These Concepts\\nThere are a number of great resources out there to teach you these and similar concepts. Khan Academy is a great starting place for data science math! If you want to know what exactly we assign our applicants, you’ll just have to apply!\\n\\xa0\\nWhat about once you’re in Codeup?\\n\\n\\nWhat You Won’t Do\\nDo we do any mathematical proofs for concepts or perform derivations? No.\\xa0\\nDo we do any calculus and probability calculating by hand? No.\\nAre we transforming equations, where we cancel out units or terms and do lots of algebraic gymnastics? No\\nWhat You Will Do\\nWill we have Python solve our linear algebra problems for us? Yes\\nWill we have Python calculate probabilities, the area under a curve, and the slope of a line for us? Yes\\nWill we have Python do all of the calculus for us? Yes\\n\\xa0\\nSee, the data science math and stats slice of the pie is certainly doable. If you like problem-solving and are ready to challenge yourself, you’ll love data science! If you are interested in learning about data science, just apply! Our Admissions Manager can work with you to get you where you need to be starting from where you are now. Let us help you get there so you can launch a great new career.\\n\\n\\n\\n\\n\\n\\n\\n\\nOur ProgramsCloud Administration\\nFull Stack Web Development\\nData Science\\n\\n\\n\\n\\n\\nLatest Blog Articles\\nSpotlight on APIDA Voices: Celebrating Heritage and Inspiring Change ft. Arbeena Thapa\\nWomen in tech: Panelist Spotlight – Magdalena Rahn\\nWomen in tech: Panelist Spotlight – Rachel Robbins-Mayhill\\nWomen in Tech: Panelist Spotlight – Sarah Mellor\\nWomen in Tech: Panelist Spotlight – Madeleine Capper\\n\\n\\n\\n\\n\\n\\n\\n\\n\\n\\n\\n\\n\\n\\n\\n\\n\\n \\n\\n\\n'"
      ]
     },
     "execution_count": 11,
     "metadata": {},
     "output_type": "execute_result"
    }
   ],
   "source": [
    "# see also `soup.find_all`\n",
    "#\n",
    "# beautiful soup uses `class_` as the keyword argument for searching\n",
    "# for a class because `class` is a reserved word in python\n",
    "# we'll use the class name that we identified from looking in the inspector in chrome\n",
    "article = soup.find('div', id='main-content')\n",
    "article.text"
   ]
  },
  {
   "cell_type": "markdown",
   "id": "fcc53341-ef93-4555-9f46-a13dcfa77286",
   "metadata": {},
   "source": [
    "### Now that we have some text to process, we can store it for future use:"
   ]
  },
  {
   "cell_type": "code",
   "execution_count": 12,
   "id": "f58fc73e-7bd6-485c-bbf0-dd794cc7ede5",
   "metadata": {},
   "outputs": [],
   "source": [
    "with open('article.txt', 'w') as f:\n",
    "    f.write(article.text)"
   ]
  },
  {
   "cell_type": "markdown",
   "id": "cd1b2f70-4686-40b7-8990-cc24e807f563",
   "metadata": {},
   "source": [
    "### We can now package all of our code up in a nice function that we can use later:"
   ]
  },
  {
   "cell_type": "code",
   "execution_count": 13,
   "id": "76d0a426-0a59-414b-bcb0-ee6604276eec",
   "metadata": {},
   "outputs": [],
   "source": [
    "def get_article_text():\n",
    "    # if we already have the data, read it locally\n",
    "    if path.exists('article.txt'):\n",
    "        with open('article.txt') as f:\n",
    "            return f.read()\n",
    "\n",
    "    # otherwise go fetch the data\n",
    "    url = 'https://codeup.com/data-science/math-in-data-science/'\n",
    "    headers = {'User-Agent': 'Codeup Data Science'}\n",
    "    response = get(url, headers=headers)\n",
    "    soup = BeautifulSoup(response.text)\n",
    "    article = soup.find('div', id='main-content')\n",
    "\n",
    "    # save it for next time\n",
    "    with open('article.txt', 'w') as f:\n",
    "        f.write(article.text)\n",
    "\n",
    "    return article.text"
   ]
  },
  {
   "cell_type": "markdown",
   "id": "b4749ce9-65c0-47b2-8965-66175091ae90",
   "metadata": {},
   "source": [
    "## HTML and CSS Crash Course\n",
    "\n",
    "- HTML is the language for content and structure on the web. This means that HTML specifies what content is what: tex, images, links, tables, containers, etc...\n",
    "\n",
    "- CSS is the language for styling and presentation. This means CSS specifies color, background, texture, position, etc...\n",
    "\n",
    "### HTML Basics\n",
    "\n",
    "- HTML consists of elements denoted by tags. These tags are contained in angle brackets like **`<main>`**. Notice how there are opening and closing tags that contain other elements.\n",
    "\n",
    "- HTML tags nest inside of other HTML tags, just like directories and files are nested in other directories.\n",
    "\n",
    "**Further reading on HTML Elements: https://developer.mozilla.org/en-US/docs/Web/HTML/Element**"
   ]
  },
  {
   "cell_type": "code",
   "execution_count": 19,
   "id": "a8072a70-c668-48ca-9e07-dbaafa031ea4",
   "metadata": {},
   "outputs": [],
   "source": [
    "# hmtl code for output below in comments\n",
    "\n",
    "# <html>\n",
    "#     <head>\n",
    "#         <title>This is the title of the page</title>\n",
    "#     </head>\n",
    "#     <body>\n",
    "#         <heading>\n",
    "#             <h1>Welcome to the blog!</h1>\n",
    "#             <p>Blog is short for \"back-log\"</p>\n",
    "#         </heading>\n",
    "#         <main>\n",
    "#             <h2>Read your way to insight!</h2>\n",
    "#             <section id=\"posts\">\n",
    "#                 <article class=\"blog_post\">\n",
    "#                     <h3>Hello World</h3>\n",
    "#                     <p>This is the first post!</p>\n",
    "#                 </article>\n",
    "#                 <article class=\"blog_post\">\n",
    "#                     <h3>HTML Is Awesome</h3>\n",
    "#                     <p>It's the language and structure for the web!</p>\n",
    "#                 </article>\n",
    "#                 <article class=\"blog_post\">\n",
    "#                     <h3>CSS Is Totally Rad</h3>\n",
    "#                     <p>CSS Selectors are super powerful</p>\n",
    "#                 </article>\n",
    "#             </section>\n",
    "#         </main>\n",
    "#         <footer>\n",
    "#             <p>All rights reserved.</p>\n",
    "#         </footer>\n",
    "#     </body>\n",
    "# </html>"
   ]
  },
  {
   "cell_type": "markdown",
   "id": "e651499d-f999-4869-88af-9e9fa7241e2b",
   "metadata": {},
   "source": [
    "## OUTPUT:"
   ]
  },
  {
   "cell_type": "markdown",
   "id": "2098df64-73b9-43f9-a7e3-19647ae0440f",
   "metadata": {},
   "source": [
    "<html>\n",
    "    <head>\n",
    "        <title>This is the title of the page</title>\n",
    "    </head>\n",
    "    <body>\n",
    "        <heading>\n",
    "            <h1>Welcome to the blog!</h1>\n",
    "            <p>Blog is short for \"back-log\"</p>\n",
    "        </heading>\n",
    "        <main>\n",
    "            <h2>Read your way to insight!</h2>\n",
    "            <section id=\"posts\">\n",
    "                <article class=\"blog_post\">\n",
    "                    <h3>Hello World</h3>\n",
    "                    <p>This is the first post!</p>\n",
    "                </article>\n",
    "                <article class=\"blog_post\">\n",
    "                    <h3>HTML Is Awesome</h3>\n",
    "                    <p>It's the language and structure for the web!</p>\n",
    "                </article>\n",
    "                <article class=\"blog_post\">\n",
    "                    <h3>CSS Is Totally Rad</h3>\n",
    "                    <p>CSS Selectors are super powerful</p>\n",
    "                </article>\n",
    "            </section>\n",
    "        </main>\n",
    "        <footer>\n",
    "            <p>All rights reserved.</p>\n",
    "        </footer>\n",
    "    </body>\n",
    "</html>\n"
   ]
  },
  {
   "cell_type": "markdown",
   "id": "f581a1e6-048e-4357-acac-0599faa3ed9d",
   "metadata": {},
   "source": [
    "# CSS Selectors\n",
    "\n",
    "- The name of the element itself is a selector. For example **`soup.select(\"p\")`** will select every paragraph tag and **`soup.select(\"footer\")`** selects the footer element (and everything inside it)  \n",
    "\n",
    "- The id selector is denoted with a **`#`**. For example **`soup.select(\"#posts\")`** will return the html element noted with the **`id=posts`** attribute  \n",
    "\n",
    "- The class selector is denoted with a **`.`** symbol before the class name. For example, **`soup.select(\".blog_post\")`** returns all of the elements that have that class name.\n",
    "\n",
    "Further reading on CSS Selectors: https://developer.mozilla.org/en-US/docs/Web/CSS/CSS_Selectors"
   ]
  }
 ],
 "metadata": {
  "kernelspec": {
   "display_name": "Python 3 (ipykernel)",
   "language": "python",
   "name": "python3"
  },
  "language_info": {
   "codemirror_mode": {
    "name": "ipython",
    "version": 3
   },
   "file_extension": ".py",
   "mimetype": "text/x-python",
   "name": "python",
   "nbconvert_exporter": "python",
   "pygments_lexer": "ipython3",
   "version": "3.10.9"
  }
 },
 "nbformat": 4,
 "nbformat_minor": 5
}
