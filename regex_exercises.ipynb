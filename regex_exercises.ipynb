{
 "cells": [
  {
   "cell_type": "markdown",
   "id": "2ea47427-5390-438c-b113-0346e39dcd52",
   "metadata": {},
   "source": [
    "# Exercises"
   ]
  },
  {
   "cell_type": "markdown",
   "id": "e94c32f6-694b-403d-a392-7eae1bd4ac28",
   "metadata": {},
   "source": [
    "  "
   ]
  },
  {
   "cell_type": "markdown",
   "id": "ca0fa266-4b4f-4828-bade-4ccce02759f6",
   "metadata": {},
   "source": [
    "## 1. Write a function named is_vowel. It should accept a string as input and use a regular expression to determine if the passed string is a vowel. While not explicity mentioned in the lesson, you can treat the result of re.search as a boolean value that indicates whether or not the regular expression matches the given string."
   ]
  },
  {
   "cell_type": "code",
   "execution_count": 1,
   "id": "9b5cda77-c8f6-4ab1-9de0-77fd164881a6",
   "metadata": {},
   "outputs": [],
   "source": [
    "# regular expresions import\n",
    "import re\n",
    "\n",
    "# function created to intake a string and return true or false if vowel is or is not present in string value.\n",
    "def is_vowel():\n",
    "    print('Please provide a string value.\\n\\n')\n",
    "    regexp = r'[aeiouAEIOU]'\n",
    "    string = input()\n",
    "    match = re.search(regexp, string, re.IGNORECASE)\n",
    "    print('\\nThank you!, String Vowel: \\n')\n",
    "    return bool(match)"
   ]
  },
  {
   "cell_type": "code",
   "execution_count": 2,
   "id": "9a177c2d-3a0b-4409-9b74-394c97faa51b",
   "metadata": {},
   "outputs": [
    {
     "name": "stdout",
     "output_type": "stream",
     "text": [
      "Please provide a string value.\n",
      "\n",
      "\n"
     ]
    },
    {
     "name": "stdin",
     "output_type": "stream",
     "text": [
      " aeiouAEIOU\n"
     ]
    },
    {
     "name": "stdout",
     "output_type": "stream",
     "text": [
      "\n",
      "Thank you!, String Vowel: \n",
      "\n"
     ]
    },
    {
     "data": {
      "text/plain": [
       "True"
      ]
     },
     "execution_count": 2,
     "metadata": {},
     "output_type": "execute_result"
    }
   ],
   "source": [
    "is_vowel()"
   ]
  },
  {
   "cell_type": "code",
   "execution_count": 3,
   "id": "991b5bb5-be38-4fe8-a4c3-1be33e5505e9",
   "metadata": {},
   "outputs": [
    {
     "name": "stdout",
     "output_type": "stream",
     "text": [
      "Please provide a string value.\n",
      "\n",
      "\n"
     ]
    },
    {
     "name": "stdin",
     "output_type": "stream",
     "text": [
      " bcdfghjklmnpqrstvwxyzBCDFGHJKMNPQRSTVWXYZ\n"
     ]
    },
    {
     "name": "stdout",
     "output_type": "stream",
     "text": [
      "\n",
      "Thank you!, String Vowel: \n",
      "\n"
     ]
    },
    {
     "data": {
      "text/plain": [
       "False"
      ]
     },
     "execution_count": 3,
     "metadata": {},
     "output_type": "execute_result"
    }
   ],
   "source": [
    "is_vowel()"
   ]
  },
  {
   "cell_type": "code",
   "execution_count": 4,
   "id": "5166f061-8610-4c38-b60b-268416249b1f",
   "metadata": {},
   "outputs": [
    {
     "name": "stdout",
     "output_type": "stream",
     "text": [
      "Please provide a string value.\n",
      "\n",
      "\n"
     ]
    },
    {
     "name": "stdin",
     "output_type": "stream",
     "text": [
      " xxxslayer666\n"
     ]
    },
    {
     "name": "stdout",
     "output_type": "stream",
     "text": [
      "\n",
      "Thank you!, String Vowel: \n",
      "\n"
     ]
    },
    {
     "data": {
      "text/plain": [
       "True"
      ]
     },
     "execution_count": 4,
     "metadata": {},
     "output_type": "execute_result"
    }
   ],
   "source": [
    "is_vowel()"
   ]
  },
  {
   "cell_type": "code",
   "execution_count": 5,
   "id": "2aed57fd-e652-4a37-848e-ca4a104abed0",
   "metadata": {},
   "outputs": [
    {
     "name": "stdout",
     "output_type": "stream",
     "text": [
      "Please provide a string value.\n",
      "\n",
      "\n"
     ]
    },
    {
     "name": "stdin",
     "output_type": "stream",
     "text": [
      " ttymflyhm\n"
     ]
    },
    {
     "name": "stdout",
     "output_type": "stream",
     "text": [
      "\n",
      "Thank you!, String Vowel: \n",
      "\n"
     ]
    },
    {
     "data": {
      "text/plain": [
       "False"
      ]
     },
     "execution_count": 5,
     "metadata": {},
     "output_type": "execute_result"
    }
   ],
   "source": [
    "is_vowel()"
   ]
  },
  {
   "cell_type": "markdown",
   "id": "0bc36640-75e5-4c98-af22-44d85feabb85",
   "metadata": {},
   "source": [
    "  "
   ]
  },
  {
   "cell_type": "markdown",
   "id": "1832bae1-10dd-47f7-a83d-2848081d8f18",
   "metadata": {},
   "source": [
    "  "
   ]
  },
  {
   "cell_type": "markdown",
   "id": "697c1225-789c-4956-9393-0c4c1180f31e",
   "metadata": {},
   "source": [
    "  "
   ]
  },
  {
   "cell_type": "markdown",
   "id": "11daaa0e-485a-4e70-a41b-1e837d92476e",
   "metadata": {},
   "source": [
    "  "
   ]
  },
  {
   "cell_type": "markdown",
   "id": "4511192e-71dd-4bf0-b8d4-947554b41b47",
   "metadata": {},
   "source": [
    "  "
   ]
  },
  {
   "cell_type": "markdown",
   "id": "ad140dce-6424-4875-81e6-5c2cc5410168",
   "metadata": {},
   "source": [
    "## 2. Write a function named is_valid_username that accepts a string as input. A valid username starts with a lowercase letter, and only consists of lowercase letters, numbers, or the _ character. It should also be no longer than 32 characters. The function should return either True or False depending on whether the passed string is a valid username."
   ]
  },
  {
   "cell_type": "markdown",
   "id": "a3e860e7-2ea7-4b9a-afbe-b4a87bafb178",
   "metadata": {},
   "source": [
    "> is_valid_username('aaaaaaaaaaaaaaaaaaaaaaaaaaaaaaaaa')\n",
    ">\n",
    ">False\n",
    ">   \n",
    "> is_valid_username('codeup')\n",
    ">   \n",
    ">True\n",
    ">   \n",
    "> is_valid_username('Codeup')\n",
    ">   \n",
    ">False\n",
    ">   \n",
    "> is_valid_username('codeup123')\n",
    ">   \n",
    ">True\n",
    ">   \n",
    ">is_valid_username('1codeup')\n",
    "> \n",
    ">False\n",
    ">    "
   ]
  },
  {
   "cell_type": "code",
   "execution_count": 6,
   "id": "daebf3bd-1eaa-4844-9f19-6a18c2565e60",
   "metadata": {},
   "outputs": [],
   "source": [
    "def is_valid_username(username):\n",
    "    regexp = r'[a-z][a-z0-9_]{0,31}$'\n",
    "    \n",
    "    if re.match(regexp, username):\n",
    "        print(f'Username is valid')\n",
    "        return True\n",
    "        \n",
    "    else:\n",
    "        print(f'Username invalid')\n",
    "        return False"
   ]
  },
  {
   "cell_type": "code",
   "execution_count": 7,
   "id": "3200dda6-3224-4cbb-bc89-60ccb9bcefaa",
   "metadata": {},
   "outputs": [
    {
     "name": "stdout",
     "output_type": "stream",
     "text": [
      "Username is valid\n"
     ]
    },
    {
     "data": {
      "text/plain": [
       "True"
      ]
     },
     "execution_count": 7,
     "metadata": {},
     "output_type": "execute_result"
    }
   ],
   "source": [
    "is_valid_username('gamergirl_69')"
   ]
  },
  {
   "cell_type": "code",
   "execution_count": 8,
   "id": "8126554f-c5cd-4527-9603-4e3c661172dd",
   "metadata": {},
   "outputs": [
    {
     "name": "stdout",
     "output_type": "stream",
     "text": [
      "Username invalid\n"
     ]
    },
    {
     "data": {
      "text/plain": [
       "False"
      ]
     },
     "execution_count": 8,
     "metadata": {},
     "output_type": "execute_result"
    }
   ],
   "source": [
    "is_valid_username('XXXSLAYER666')"
   ]
  },
  {
   "cell_type": "code",
   "execution_count": 9,
   "id": "f3da9ec8-108a-487a-83a2-eaa396acace6",
   "metadata": {},
   "outputs": [
    {
     "name": "stdout",
     "output_type": "stream",
     "text": [
      "Username invalid\n"
     ]
    },
    {
     "data": {
      "text/plain": [
       "False"
      ]
     },
     "execution_count": 9,
     "metadata": {},
     "output_type": "execute_result"
    }
   ],
   "source": [
    "is_valid_username('i_beat_halo_eleventeen_times_callme_kilLimanjaro')"
   ]
  },
  {
   "cell_type": "markdown",
   "id": "75d9ed8b-ba24-4aee-92b2-67a553924726",
   "metadata": {},
   "source": [
    "  "
   ]
  },
  {
   "cell_type": "markdown",
   "id": "bbb3a90d-e2c5-47b1-92f7-8cde441fce59",
   "metadata": {},
   "source": [
    "  "
   ]
  },
  {
   "cell_type": "markdown",
   "id": "1d2fd15c-f95d-447e-96f8-637d62066be2",
   "metadata": {},
   "source": [
    "  "
   ]
  },
  {
   "cell_type": "markdown",
   "id": "83cc3e89-4df9-4433-9106-2f56c705b748",
   "metadata": {},
   "source": [
    "  "
   ]
  },
  {
   "cell_type": "markdown",
   "id": "19e148ae-7e15-4131-bcbb-eaf273fe6f0a",
   "metadata": {},
   "source": [
    "  "
   ]
  },
  {
   "cell_type": "markdown",
   "id": "bf06bb1c-8758-4e83-8b01-53bb4c5059dc",
   "metadata": {},
   "source": [
    "  "
   ]
  },
  {
   "cell_type": "markdown",
   "id": "1d3267a3-1482-4c93-abd0-317f125e0381",
   "metadata": {},
   "source": [
    "## - exercise inputs:"
   ]
  },
  {
   "cell_type": "code",
   "execution_count": 10,
   "id": "e59c78f2-0683-42d9-a408-02312ea052ca",
   "metadata": {},
   "outputs": [
    {
     "name": "stdout",
     "output_type": "stream",
     "text": [
      "Username invalid\n"
     ]
    },
    {
     "data": {
      "text/plain": [
       "False"
      ]
     },
     "execution_count": 10,
     "metadata": {},
     "output_type": "execute_result"
    }
   ],
   "source": [
    "is_valid_username('aaaaaaaaaaaaaaaaaaaaaaaaaaaaaaaaa')"
   ]
  },
  {
   "cell_type": "code",
   "execution_count": 11,
   "id": "9c6bf76d-5204-4482-b475-e2818cda1eba",
   "metadata": {},
   "outputs": [
    {
     "name": "stdout",
     "output_type": "stream",
     "text": [
      "Username is valid\n"
     ]
    },
    {
     "data": {
      "text/plain": [
       "True"
      ]
     },
     "execution_count": 11,
     "metadata": {},
     "output_type": "execute_result"
    }
   ],
   "source": [
    "is_valid_username('codeup')"
   ]
  },
  {
   "cell_type": "code",
   "execution_count": 12,
   "id": "f29097dd-bc9b-4173-b648-e88f03b6afd2",
   "metadata": {},
   "outputs": [
    {
     "name": "stdout",
     "output_type": "stream",
     "text": [
      "Username invalid\n"
     ]
    },
    {
     "data": {
      "text/plain": [
       "False"
      ]
     },
     "execution_count": 12,
     "metadata": {},
     "output_type": "execute_result"
    }
   ],
   "source": [
    "is_valid_username('Codeup')"
   ]
  },
  {
   "cell_type": "code",
   "execution_count": 13,
   "id": "aa646ac6-8120-44f3-9219-3af16e73aaab",
   "metadata": {},
   "outputs": [
    {
     "name": "stdout",
     "output_type": "stream",
     "text": [
      "Username is valid\n"
     ]
    },
    {
     "data": {
      "text/plain": [
       "True"
      ]
     },
     "execution_count": 13,
     "metadata": {},
     "output_type": "execute_result"
    }
   ],
   "source": [
    "is_valid_username('codeup123')"
   ]
  },
  {
   "cell_type": "code",
   "execution_count": 14,
   "id": "8c9233a8-fd23-48f9-aa1c-31911e002154",
   "metadata": {},
   "outputs": [
    {
     "name": "stdout",
     "output_type": "stream",
     "text": [
      "Username invalid\n"
     ]
    },
    {
     "data": {
      "text/plain": [
       "False"
      ]
     },
     "execution_count": 14,
     "metadata": {},
     "output_type": "execute_result"
    }
   ],
   "source": [
    "is_valid_username('1codeup')"
   ]
  },
  {
   "cell_type": "markdown",
   "id": "998e33c9-f541-4497-b4ab-0e64d94bde73",
   "metadata": {},
   "source": [
    "  "
   ]
  },
  {
   "cell_type": "markdown",
   "id": "47bff1dc-a6a3-4086-afe7-32ecd95ef2c0",
   "metadata": {},
   "source": [
    "  "
   ]
  },
  {
   "cell_type": "markdown",
   "id": "0f4ddbbe-b530-473b-8da3-a13b8b491835",
   "metadata": {},
   "source": [
    "  "
   ]
  },
  {
   "cell_type": "markdown",
   "id": "d89bd61e-98ff-447d-b416-7e95a9155300",
   "metadata": {},
   "source": [
    "  "
   ]
  },
  {
   "cell_type": "markdown",
   "id": "60321b2d-ff2b-40a1-aaa4-d5da34dd0a53",
   "metadata": {},
   "source": [
    "  "
   ]
  },
  {
   "cell_type": "markdown",
   "id": "5e0ad5c7-24af-4f43-8844-98f5bbfd76fe",
   "metadata": {},
   "source": [
    "## 3. Write a regular expression to capture phone numbers. It should match all of the following:\n",
    "\n",
    "\n",
    "> (210) 867 5309  \n",
    "> +1 210.867.5309  \n",
    "> 867-5309  \n",
    "> 210-867-5309  "
   ]
  },
  {
   "cell_type": "code",
   "execution_count": 15,
   "id": "4166e21f-5d07-4c29-8633-59ee10b94d60",
   "metadata": {
    "scrolled": true
   },
   "outputs": [
    {
     "data": {
      "text/plain": [
       "['(210) ',\n",
       " '867 ',\n",
       " '5309\\n',\n",
       " '+1 ',\n",
       " '210.867.5309\\n',\n",
       " '867-5309\\n',\n",
       " '210-867-5309\\n']"
      ]
     },
     "execution_count": 15,
     "metadata": {},
     "output_type": "execute_result"
    }
   ],
   "source": [
    "subject = '''\n",
    "          (210) 867 5309\n",
    "          +1 210.867.5309\n",
    "          867-5309\n",
    "          210-867-5309\n",
    "          '''\n",
    "regexp = r'\\S{,12}\\S\\s'\n",
    "re.findall(regexp, subject)"
   ]
  },
  {
   "cell_type": "markdown",
   "id": "e013ae7c-f553-489c-bda7-8792bbb2dbe0",
   "metadata": {},
   "source": [
    "  "
   ]
  },
  {
   "cell_type": "markdown",
   "id": "3ab0b003-38f3-4327-b297-a8e7b037ccfc",
   "metadata": {},
   "source": [
    "  "
   ]
  },
  {
   "cell_type": "markdown",
   "id": "6dd37419-50b7-4742-b9a7-04af9469c41b",
   "metadata": {},
   "source": [
    "  "
   ]
  },
  {
   "cell_type": "markdown",
   "id": "40a9053a-32de-4afe-afc6-79db0e32637b",
   "metadata": {},
   "source": [
    "  "
   ]
  },
  {
   "cell_type": "markdown",
   "id": "1f1907c7-45ca-4f6e-ba6f-64ff32510f8a",
   "metadata": {},
   "source": [
    "  "
   ]
  },
  {
   "cell_type": "code",
   "execution_count": 16,
   "id": "b7f80ff8-10ce-4656-8fea-d4cc5785e90f",
   "metadata": {},
   "outputs": [
    {
     "name": "stdout",
     "output_type": "stream",
     "text": [
      "<re.Match object; span=(0, 14), match='(210) 867 5309'>\n",
      "<re.Match object; span=(0, 15), match='+1 210.867.5309'>\n",
      "<re.Match object; span=(0, 8), match='867-5309'>\n",
      "<re.Match object; span=(0, 12), match='210-867-5309'>\n"
     ]
    }
   ],
   "source": [
    "subject_list = ['(210) 867 5309', '+1 210.867.5309', '867-5309', '210-867-5309']\n",
    "\n",
    "regexp = r'^\\D*(\\d+\\D*){2,}'\n",
    "\n",
    "for s in subject_list:\n",
    "    matches = re.match(regexp, s)\n",
    "    if matches:\n",
    "        print(matches)\n",
    "    else:\n",
    "        print('try again')"
   ]
  },
  {
   "cell_type": "markdown",
   "id": "ea39c69e-37df-4f79-a6d7-b77dd41fd352",
   "metadata": {},
   "source": [
    "  "
   ]
  },
  {
   "cell_type": "markdown",
   "id": "de12808d-5729-408c-bd92-51205c48be26",
   "metadata": {},
   "source": [
    "  "
   ]
  },
  {
   "cell_type": "markdown",
   "id": "6222a752-4658-48a8-baa1-037e5006147a",
   "metadata": {},
   "source": [
    "  "
   ]
  },
  {
   "cell_type": "markdown",
   "id": "24616ed2-373e-4067-a60f-a01f964e7f4a",
   "metadata": {},
   "source": [
    "## 4. Use regular expressions to convert the dates below to the standardized year-month-day format."
   ]
  },
  {
   "cell_type": "markdown",
   "id": "b1ae27a2-c120-4f0a-8b3e-c6fe5484b2d0",
   "metadata": {},
   "source": [
    "> 02/04/19  \n",
    "> 02/05/19  \n",
    "> 02/06/19  \n",
    "> 02/07/19  \n",
    "> 02/08/19  \n",
    "> 02/09/19  \n",
    "> 02/10/19  "
   ]
  },
  {
   "cell_type": "code",
   "execution_count": 17,
   "id": "f40d8c12-ec6f-47d1-839a-38d5d619b5fb",
   "metadata": {},
   "outputs": [
    {
     "name": "stdout",
     "output_type": "stream",
     "text": [
      "<re.Match object; span=(0, 8), match='02/04/19'>\n",
      "<re.Match object; span=(0, 8), match='02/05/19'>\n",
      "<re.Match object; span=(0, 8), match='02/06/19'>\n",
      "<re.Match object; span=(0, 8), match='02/07/19'>\n",
      "<re.Match object; span=(0, 8), match='02/08/19'>\n",
      "<re.Match object; span=(0, 8), match='02/09/19'>\n",
      "<re.Match object; span=(0, 8), match='02/10/19'>\n"
     ]
    }
   ],
   "source": [
    "subject_list = ['02/04/19', '02/05/19', '02/06/19', '02/07/19', '02/08/19', '02/09/19', '02/10/19']\n",
    "\n",
    "regexp = r'^\\D*(\\d+\\D*){2,}'\n",
    "\n",
    "for s in subject_list:\n",
    "    matches = re.match(regexp, s)\n",
    "    if matches:\n",
    "        print(matches)\n",
    "    else:\n",
    "        print('try again')"
   ]
  },
  {
   "cell_type": "markdown",
   "id": "11df929b-dbbf-4e8f-ad95-de24230f765c",
   "metadata": {},
   "source": [
    "  "
   ]
  },
  {
   "cell_type": "markdown",
   "id": "57e4216b-da29-41c2-bdea-a20e8e8eab50",
   "metadata": {},
   "source": [
    "  "
   ]
  },
  {
   "cell_type": "markdown",
   "id": "11312b6f-9cde-4ac8-9fdd-b7bcfa4c03a1",
   "metadata": {},
   "source": [
    "  "
   ]
  },
  {
   "cell_type": "markdown",
   "id": "6751d11f-d78a-422c-b109-1a3d43eee254",
   "metadata": {},
   "source": [
    "  "
   ]
  },
  {
   "cell_type": "markdown",
   "id": "a7343f87-1bd0-47da-b01b-5cfb28932f38",
   "metadata": {},
   "source": [
    "  "
   ]
  },
  {
   "cell_type": "markdown",
   "id": "02c73e95-4ea8-4070-ad70-41c38e54170a",
   "metadata": {},
   "source": [
    "## 5. Write a regex to extract the various parts of these logfile lines:"
   ]
  },
  {
   "cell_type": "markdown",
   "id": "59b48be7-b66d-4aed-8653-8917c7c90a8e",
   "metadata": {},
   "source": [
    "> GET /api/v1/sales?page=86 [16/Apr/2019:193452+0000] HTTP/1.1 {200} 510348 \"python-requests/2.21.0\" 97.105.19.58  \n",
    "> POST /users_accounts/file-upload [16/Apr/2019:193452+0000] HTTP/1.1 {201} 42 \"User-Agent: Mozilla/5.0 (X11; Fedora; Fedora; Linux x86_64) AppleWebKit/537.36 (KHTML, like Gecko) Chrome/73.0.3683.86 Safari/537.36\" 97.105.19.58  \n",
    "> GET /api/v1/items?page=3 [16/Apr/2019:193453+0000] HTTP/1.1 {429} 3561 \"python-requests/2.21.0\" 97.105.19.58"
   ]
  },
  {
   "cell_type": "code",
   "execution_count": 18,
   "id": "8e6b0679-d2bb-4bc5-89aa-3599d705c4ca",
   "metadata": {},
   "outputs": [
    {
     "name": "stdout",
     "output_type": "stream",
     "text": [
      "['GET']\n",
      "['POST']\n",
      "['GET']\n"
     ]
    }
   ],
   "source": [
    "subject_list = ['GET /api/v1/sales?page=86 [16/Apr/2019:193452+0000] HTTP/1.1 {200} 510348 \"python-requests/2.21.0\" 97.105.19.58', 'POST /users_accounts/file-upload [16/Apr/2019:193452+0000] HTTP/1.1 {201} 42 \"User-Agent: Mozilla/5.0 (X11; Fedora; Fedora; Linux x86_64) AppleWebKit/537.36 (KHTML, like Gecko) Chrome/73.0.3683.86 Safari/537.36\" 97.105.19.58', 'GET /api/v1/items?page=3 [16/Apr/2019:193453+0000] HTTP/1.1 {429} 3561 \"python-requests/2.21.0\" 97.105.19.58]']\n",
    "\n",
    "regexp = r'^(\\w*)'\n",
    "\n",
    "for s in subject_list:\n",
    "    matches = re.findall(regexp, s)\n",
    "    if matches:\n",
    "        print(matches)\n",
    "    else:\n",
    "        print('try again')"
   ]
  },
  {
   "cell_type": "code",
   "execution_count": 53,
   "id": "6433153f-de9d-4a06-9e2f-40512c1c3d2a",
   "metadata": {},
   "outputs": [
    {
     "name": "stdout",
     "output_type": "stream",
     "text": [
      "['GET /api/v1/sales?page=86 [16']\n",
      "['POST /users_accounts/file-upload [16/Apr/2019:193452']\n",
      "['GET /api/v1/items?page=3 [16']\n"
     ]
    }
   ],
   "source": [
    "subject_list = ['GET /api/v1/sales?page=86 [16/Apr/2019:193452+0000] HTTP/1.1 {200} 510348 \"python-requests/2.21.0\" 97.105.19.58', 'POST /users_accounts/file-upload [16/Apr/2019:193452+0000] HTTP/1.1 {201} 42 \"User-Agent: Mozilla/5.0 (X11; Fedora; Fedora; Linux x86_64) AppleWebKit/537.36 (KHTML, like Gecko) Chrome/73.0.3683.86 Safari/537.36\" 97.105.19.58', 'GET /api/v1/items?page=3 [16/Apr/2019:193453+0000] HTTP/1.1 {429} 3561 \"python-requests/2.21.0\" 97.105.19.58]']\n",
    "\n",
    "regexp = r'^(\\D*\\d+\\D*\\d+\\D*\\d+\\d+D*)'\n",
    "for s in subject_list:\n",
    "    matches = re.findall(regexp, s)\n",
    "    if matches:\n",
    "        print(matches)\n",
    "    else:\n",
    "        print('try again')"
   ]
  },
  {
   "cell_type": "markdown",
   "id": "d8b1cb82-6cad-4249-9fab-5ddbc98f703b",
   "metadata": {},
   "source": [
    "  "
   ]
  },
  {
   "cell_type": "markdown",
   "id": "47039bd8-af77-499f-9f24-fc20df38534b",
   "metadata": {},
   "source": [
    "  "
   ]
  },
  {
   "cell_type": "markdown",
   "id": "710c9c7f-5704-4ea1-b87d-d00812cd14ce",
   "metadata": {},
   "source": [
    "  "
   ]
  },
  {
   "cell_type": "markdown",
   "id": "10246b56-a212-4559-8d7a-6694fab7976f",
   "metadata": {},
   "source": [
    "  "
   ]
  },
  {
   "cell_type": "markdown",
   "id": "34113333-813e-44d7-87da-6f7b2c9ce72a",
   "metadata": {},
   "source": [
    "  "
   ]
  },
  {
   "cell_type": "markdown",
   "id": "ed09e148-d1ba-4ca3-b00b-274c3d30b7f9",
   "metadata": {},
   "source": [
    "  "
   ]
  },
  {
   "cell_type": "markdown",
   "id": "1290b70c-0dec-4f2d-8535-0ce77b2f57a1",
   "metadata": {},
   "source": [
    "# Bonus Exercise"
   ]
  },
  {
   "cell_type": "markdown",
   "id": "5a8cb875-0339-43f1-bbf7-7f968f9c5ade",
   "metadata": {},
   "source": [
    "## You can find a list of words on your mac at /usr/share/dict/words. Use this file to answer the following questions:"
   ]
  },
  {
   "cell_type": "markdown",
   "id": "1753b773-9dfc-440b-a319-23f3878284dc",
   "metadata": {},
   "source": [
    "- How many words have at least 3 vowels?"
   ]
  },
  {
   "cell_type": "code",
   "execution_count": null,
   "id": "87f3140a-1e84-45e9-8945-c9b7daff45d5",
   "metadata": {},
   "outputs": [],
   "source": []
  },
  {
   "cell_type": "markdown",
   "id": "5e010dea-5f48-4535-910e-fb81a67688b9",
   "metadata": {},
   "source": [
    "- How many words have at least 3 vowels in a row?"
   ]
  },
  {
   "cell_type": "code",
   "execution_count": null,
   "id": "ec5cf6a8-c62c-416b-b29e-79b3cbc20baf",
   "metadata": {},
   "outputs": [],
   "source": []
  },
  {
   "cell_type": "markdown",
   "id": "dca7ea89-0c66-4f07-8e95-44bb72cd1828",
   "metadata": {},
   "source": [
    "- How many words have at least 4 consonants in a row?"
   ]
  },
  {
   "cell_type": "code",
   "execution_count": null,
   "id": "7d5ecb8a-7fd1-4ef4-a9ff-83f2f72cd63d",
   "metadata": {},
   "outputs": [],
   "source": []
  },
  {
   "cell_type": "markdown",
   "id": "a5b6023a-6350-4a97-954d-62d2165aec0c",
   "metadata": {},
   "source": [
    "- How many words start and end with the same letter?"
   ]
  },
  {
   "cell_type": "code",
   "execution_count": null,
   "id": "bf2b75b5-7e4a-41d6-bf15-39fc95fc4fa0",
   "metadata": {},
   "outputs": [],
   "source": []
  },
  {
   "cell_type": "markdown",
   "id": "3e369de5-071b-4210-84af-bd3f5f6c0241",
   "metadata": {},
   "source": [
    "- How many words start and end with a vowel?"
   ]
  },
  {
   "cell_type": "code",
   "execution_count": null,
   "id": "64bceff9-f4e4-4d27-ae48-f2130b5ff90f",
   "metadata": {},
   "outputs": [],
   "source": []
  },
  {
   "cell_type": "markdown",
   "id": "3bc86ef1-7c8e-44da-97e4-25e94cfb511f",
   "metadata": {},
   "source": [
    "- How many words contain the same letter 3 times in a row?"
   ]
  },
  {
   "cell_type": "code",
   "execution_count": null,
   "id": "43c6f803-2c33-4ee1-9a08-0cdaca28bb16",
   "metadata": {},
   "outputs": [],
   "source": []
  },
  {
   "cell_type": "markdown",
   "id": "b1d7d7ac-d0db-41f6-8dd0-5b6c09db9606",
   "metadata": {},
   "source": [
    "- What other interesting patterns in words can you find?"
   ]
  },
  {
   "cell_type": "code",
   "execution_count": null,
   "id": "11d10093-bfc1-4a79-b991-45c7ac9088a8",
   "metadata": {},
   "outputs": [],
   "source": []
  }
 ],
 "metadata": {
  "kernelspec": {
   "display_name": "Python 3 (ipykernel)",
   "language": "python",
   "name": "python3"
  },
  "language_info": {
   "codemirror_mode": {
    "name": "ipython",
    "version": 3
   },
   "file_extension": ".py",
   "mimetype": "text/x-python",
   "name": "python",
   "nbconvert_exporter": "python",
   "pygments_lexer": "ipython3",
   "version": "3.10.9"
  }
 },
 "nbformat": 4,
 "nbformat_minor": 5
}
