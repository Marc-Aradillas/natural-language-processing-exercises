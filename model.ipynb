{
 "cells": [
  {
   "cell_type": "markdown",
   "id": "efec7068-648b-43aa-8acb-80683d19cfaa",
   "metadata": {},
   "source": [
    "# Exercises\n",
    "\n",
    "## Take the work we did in the lessons further:"
   ]
  },
  {
   "cell_type": "code",
   "execution_count": null,
   "id": "700adcf8-cd23-4575-8229-562cf7021899",
   "metadata": {},
   "outputs": [],
   "source": []
  },
  {
   "cell_type": "markdown",
   "id": "9401d6bb-ffd5-4e98-bea6-ffbaaf5fd563",
   "metadata": {},
   "source": [
    "  "
   ]
  },
  {
   "cell_type": "markdown",
   "id": "ae2648da-1e66-470e-8607-dc4197b65f14",
   "metadata": {},
   "source": [
    "  "
   ]
  },
  {
   "cell_type": "markdown",
   "id": "c2152573-c5e4-4355-8927-7b6414f8fb25",
   "metadata": {},
   "source": [
    "  "
   ]
  },
  {
   "cell_type": "markdown",
   "id": "4adaf877-bb73-40e7-be81-f704311ac48b",
   "metadata": {},
   "source": [
    "  "
   ]
  },
  {
   "cell_type": "markdown",
   "id": "eebafbe7-cf43-496d-a5ed-e1313cb8fbb4",
   "metadata": {},
   "source": [
    "### 1. What other types of models (i.e. different classifcation algorithms) could you use?"
   ]
  },
  {
   "cell_type": "code",
   "execution_count": null,
   "id": "98d2fd62-3318-4c12-be30-b260a9226371",
   "metadata": {},
   "outputs": [],
   "source": []
  },
  {
   "cell_type": "markdown",
   "id": "6ff8e207-3586-4b33-a7ba-82fd7de53053",
   "metadata": {},
   "source": [
    "  "
   ]
  },
  {
   "cell_type": "markdown",
   "id": "3762794f-4c7b-42ac-9188-9fb619c0f80d",
   "metadata": {},
   "source": [
    "  "
   ]
  },
  {
   "cell_type": "markdown",
   "id": "449676a3-d80e-4a72-81de-4e815210332d",
   "metadata": {},
   "source": [
    "  "
   ]
  },
  {
   "cell_type": "markdown",
   "id": "0eb76016-913f-4bcb-9a4e-b2b5e194901c",
   "metadata": {},
   "source": [
    "  "
   ]
  },
  {
   "cell_type": "markdown",
   "id": "429d9a3f-a039-4a56-bc2d-8b53e3057b27",
   "metadata": {},
   "source": [
    "### 2. How do the models compare when trained on term frequency data alone, instead of TF-IDF values?"
   ]
  },
  {
   "cell_type": "code",
   "execution_count": null,
   "id": "75dd1743-2494-451d-b809-94d78dabb545",
   "metadata": {},
   "outputs": [],
   "source": []
  }
 ],
 "metadata": {
  "kernelspec": {
   "display_name": "Python 3 (ipykernel)",
   "language": "python",
   "name": "python3"
  },
  "language_info": {
   "codemirror_mode": {
    "name": "ipython",
    "version": 3
   },
   "file_extension": ".py",
   "mimetype": "text/x-python",
   "name": "python",
   "nbconvert_exporter": "python",
   "pygments_lexer": "ipython3",
   "version": "3.10.9"
  }
 },
 "nbformat": 4,
 "nbformat_minor": 5
}
