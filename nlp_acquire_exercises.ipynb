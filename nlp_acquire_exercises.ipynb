{
 "cells": [
  {
   "cell_type": "markdown",
   "id": "df0041cd-12e5-437a-beec-db82be034b1a",
   "metadata": {},
   "source": [
    "# Data Acquisition \n",
    "\n",
    "## Imports"
   ]
  },
  {
   "cell_type": "code",
   "execution_count": 1,
   "id": "d980cdfc-640d-40d0-9fb8-e152d0333af3",
   "metadata": {},
   "outputs": [],
   "source": [
    "from requests import get\n",
    "from bs4 import BeautifulSoup\n",
    "import os\n",
    "import pandas as pd"
   ]
  },
  {
   "cell_type": "markdown",
   "id": "1807b132-84dc-4d3f-8383-91f0745cc386",
   "metadata": {},
   "source": [
    "## Codeup Blog Articles\n",
    "\n",
    "Visit Codeup's Blog and record the urls for at least 5 distinct blog posts. For each post, you should scrape at least the post's title and content.\n",
    "\n",
    "Encapsulate your work in a function named get_blog_articles that will return a list of dictionaries, with each dictionary representing one article. The shape of each dictionary should look like this:\n",
    "\n",
    "```python\n",
    "{\n",
    "    'title': 'the title of the article',\n",
    "    'content': 'the full text content of the article'\n",
    "}\n",
    "```\n",
    "\n",
    "Plus any additional properties you think might be helpful.\n",
    "\n"
   ]
  },
  {
   "cell_type": "code",
   "execution_count": 2,
   "id": "9a57ee98-f38b-462b-8c5e-a0638eb9f826",
   "metadata": {},
   "outputs": [],
   "source": [
    "url = 'https://codeup.edu/blog/'\n",
    "headers = {'User-Agent': 'Codeup Data Science'}\n",
    "response = get(url, headers=headers)"
   ]
  },
  {
   "cell_type": "code",
   "execution_count": 3,
   "id": "0cf58ea7-ab1c-41f3-9ac5-a407f14a6f69",
   "metadata": {},
   "outputs": [],
   "source": [
    "soup = BeautifulSoup(response.content, 'html.parser')"
   ]
  },
  {
   "cell_type": "markdown",
   "id": "c07e0ebb",
   "metadata": {},
   "source": [
    "### class='more-link' is one way to get access to each article link"
   ]
  },
  {
   "cell_type": "code",
   "execution_count": 4,
   "id": "1b29fc5c-3e20-4ccc-9171-41114b4d5283",
   "metadata": {
    "scrolled": true
   },
   "outputs": [
    {
     "data": {
      "text/plain": [
       "[<a class=\"more-link\" href=\"https://codeup.edu/featured/apida-heritage-month/\">read more</a>,\n",
       " <a class=\"more-link\" href=\"https://codeup.edu/featured/women-in-tech-panelist-spotlight/\">read more</a>,\n",
       " <a class=\"more-link\" href=\"https://codeup.edu/featured/women-in-tech-rachel-robbins-mayhill/\">read more</a>,\n",
       " <a class=\"more-link\" href=\"https://codeup.edu/codeup-news/women-in-tech-panelist-spotlight-sarah-mellor/\">read more</a>,\n",
       " <a class=\"more-link\" href=\"https://codeup.edu/events/women-in-tech-madeleine/\">read more</a>,\n",
       " <a class=\"more-link\" href=\"https://codeup.edu/codeup-news/panelist-spotlight-4/\">read more</a>]"
      ]
     },
     "execution_count": 4,
     "metadata": {},
     "output_type": "execute_result"
    }
   ],
   "source": [
    "soup.select('.more-link') #soup.find_all('a', class_='more-link')"
   ]
  },
  {
   "cell_type": "code",
   "execution_count": 5,
   "id": "127040c2-11b6-44d1-9721-dd34ccc84703",
   "metadata": {},
   "outputs": [
    {
     "data": {
      "text/plain": [
       "<a class=\"more-link\" href=\"https://codeup.edu/featured/apida-heritage-month/\">read more</a>"
      ]
     },
     "execution_count": 5,
     "metadata": {},
     "output_type": "execute_result"
    }
   ],
   "source": [
    "soup.select('.more-link')[0]"
   ]
  },
  {
   "cell_type": "code",
   "execution_count": 6,
   "id": "cf6b3fff-1ef7-461e-9398-198cdb192704",
   "metadata": {},
   "outputs": [
    {
     "data": {
      "text/plain": [
       "'https://codeup.edu/featured/apida-heritage-month/'"
      ]
     },
     "execution_count": 6,
     "metadata": {},
     "output_type": "execute_result"
    }
   ],
   "source": [
    "soup.select('.more-link')[0]['href']"
   ]
  },
  {
   "cell_type": "markdown",
   "id": "4c5a78f7-dea7-4b40-8999-38ddad472454",
   "metadata": {},
   "source": [
    "### Using list comprehension to get all the links out"
   ]
  },
  {
   "cell_type": "code",
   "execution_count": 7,
   "id": "a6a146c0-1ce6-4763-b8ec-3f477bcdbc38",
   "metadata": {},
   "outputs": [
    {
     "data": {
      "text/plain": [
       "['https://codeup.edu/featured/apida-heritage-month/',\n",
       " 'https://codeup.edu/featured/women-in-tech-panelist-spotlight/',\n",
       " 'https://codeup.edu/featured/women-in-tech-rachel-robbins-mayhill/',\n",
       " 'https://codeup.edu/codeup-news/women-in-tech-panelist-spotlight-sarah-mellor/',\n",
       " 'https://codeup.edu/events/women-in-tech-madeleine/',\n",
       " 'https://codeup.edu/codeup-news/panelist-spotlight-4/']"
      ]
     },
     "execution_count": 7,
     "metadata": {},
     "output_type": "execute_result"
    }
   ],
   "source": [
    "links = [link['href'] for link in soup.select('.more-link')]\n",
    "links"
   ]
  },
  {
   "cell_type": "markdown",
   "id": "617683ff-e87a-497a-8048-428a0aa46017",
   "metadata": {},
   "source": [
    "### Get title and content from article"
   ]
  },
  {
   "cell_type": "code",
   "execution_count": 8,
   "id": "070f08bb-6584-40b9-a2cd-bf64c23daa07",
   "metadata": {},
   "outputs": [],
   "source": [
    "url = links[0]\n",
    "response = get(url, headers=headers)\n",
    "soup = BeautifulSoup(response.text)"
   ]
  },
  {
   "cell_type": "code",
   "execution_count": 9,
   "id": "929b753f-e696-4722-a5f2-03f9d76cf9bd",
   "metadata": {},
   "outputs": [
    {
     "data": {
      "text/plain": [
       "'Spotlight on APIDA Voices: Celebrating Heritage and Inspiring Change ft. Arbeena Thapa'"
      ]
     },
     "execution_count": 9,
     "metadata": {},
     "output_type": "execute_result"
    }
   ],
   "source": [
    "soup.find('h1', class_='entry-title').text"
   ]
  },
  {
   "cell_type": "code",
   "execution_count": 10,
   "id": "8a73152e-5a3f-4c95-bf53-50c3b64ca837",
   "metadata": {},
   "outputs": [
    {
     "data": {
      "text/plain": [
       "'May is traditionally known as Asian American and Pacific Islander (AAPI) Heritage Month. This month we celebrate the history and contributions made possible by our AAPI friends, family, and community. We also examine our level of support and seek opportunities to better understand the AAPI community.\\n\\nIn an effort to address real concerns and experiences, we sat down with Arbeena Thapa, one of Codeup’s Financial Aid and Enrollment Managers.\\nArbeena identifies as Nepali American and Desi. Arbeena’s parents immigrated to Texas in 1988 for better employment and educational opportunities. Arbeena’s older sister was five when they made the move to the US. Arbeena was born later, becoming the first in her family to be a US citizen.\\nAt Codeup we take our efforts at inclusivity very seriously. After speaking with Arbeena, we were taught that the term AAPI excludes Desi-American individuals. Hence, we will now use the term Asian Pacific Islander Desi American (APIDA).\\nHere is how the rest of our conversation with Arbeena went!\\nHow do you celebrate or connect with your heritage and cultural traditions?\\n“I celebrate Nepal’s version of Christmas or Dashain. This is a nine-day celebration also known as Dussehra. I grew up as Hindu and I identify as Hindu, this is a very large part of my heritage. “\\n“Other ways I connect with my culture include sharing food! Momos are South Asian Dumplings and they’re my favorite to make and share.”\\n“On my Asian American side, I am an advocate of immigrant justice and erasure within APIDA social or political movements. I participate in events to embrace my identity such as immigrant justice advocacy because I come from a mixed-status family. I’ve always been in a community with undocumented Asian immigrants. .”\\nWhat are some of the challenges you have faced as an APIDA individual, personally or professionally?\\n“I often struggle with being gendered as compliant or a pushover. Professionally, I am often stereotyped as meek, so I’ve been overlooked for leadership roles. We are seen as perpetually foreign; people tend to other us in that way, yet put us on a pedestal for what a model minority looks like. This has made me hesitant to share my heritage in the past because these assumptions get mapped onto me. ”\\nCan you describe some common barriers of entry that APIDA individuals, specifically women may face when trying to enter or advance in the workplace?\\n“Being overlooked for leadership. In the past, I have not been viewed as a leader. People sometimes have preconceived stereotypes of Asian women not being able to be bold, or being vocal can be mistaken for being too emotional. “\\nHow do you believe microaggressions impact APIDA individuals in the workplace? Can you provide examples of such microaggressions?\\n“Erasure is big. To me, only saying ‘Merry Christmas’ isn’t inclusive to other religions. People are often resistant to saying ‘Happy Holidays,’ but saying Merry Christmas excludes, and does not appreciate my heritage. “\\n“Often microaggressions are not micro at all. They typically are not aggressive racialized violence, but the term ‘micro’ minimizes impact.”\\n“Some that I’ve heard are ‘What kind of Asian are you?’ or ‘Where are you from?’ This automatically makes me the ‘other’ and not seen as American. Even within the APIDA community, South Asians are overlooked as “Asian”.”\\nHow important is representation, specifically APIDA representation, in organizational leadership positions?\\n“I want to say that it is important to have someone who looks like you in leadership roles, and it is, but those leaders may not share the same beliefs as you. Certain privileges such as wealth, resources, or lack of interaction with lower-socioeconomic-status Asian Americans may cause a difference in community politics. I do not think the bamboo ceiling is acceptable, but the company you work for plays a big part in your politics and belief alignment.”\\nHow do you feel about code-switching, and have you ever felt it necessary to code-switch?\\n“I like sharing South Asian terms or connecting with others that have similar heritage and culture. A workplace that is welcoming to going into this sort of breakout is refreshing and makes space for us. However, having to code-switch could also mean a workplace that is not conducive and welcoming of other cultures. “\\nFinally, in your opinion, what long-term strategies can create lasting change in the workplace and ensure support, equality, and inclusion for APIDA individuals?\\n“Prior to a career in financial aid, I did a lot of research related to the post-9/11 immigration of the South Asian diaspora. This background made me heavily rely on grassroots organizing. Hire the people that want to innovate, hire the changemakers, hire the button-pushers. Reduce reliance on whiteness as change. This will become natural for the organization and become organizational change. Change comes from us on the ground.”\\nA huge thank you to Arbeena Thapa for sharing her experiences, and being vulnerable with us. Your words were inspiring and the opportunity to understand your perspective more has been valuable. We hope we can become better support for the APIDA community as we learn and grow on our journey of cultivating inclusive growth.'"
      ]
     },
     "execution_count": 10,
     "metadata": {},
     "output_type": "execute_result"
    }
   ],
   "source": [
    "soup.find('div', class_='entry-content').text.strip()"
   ]
  },
  {
   "cell_type": "markdown",
   "id": "6dd601ed-2f70-4954-87ed-58a1403537f3",
   "metadata": {},
   "source": [
    "### Put it together"
   ]
  },
  {
   "cell_type": "code",
   "execution_count": 11,
   "id": "c085cc2a-6419-4693-adea-d7c292dcbf62",
   "metadata": {},
   "outputs": [],
   "source": [
    "url = 'https://codeup.edu/blog/'\n",
    "headers = {'User-Agent': 'Codeup Data Science'}\n",
    "response = get(url, headers=headers)\n",
    "\n",
    "soup = BeautifulSoup(response.content, 'html.parser')\n",
    "\n",
    "links = [link['href'] for link in soup.select('.more-link')]\n",
    "\n",
    "articles = []\n",
    "\n",
    "for url in links:\n",
    "    \n",
    "    url_response = get(url, headers=headers)\n",
    "    soup = BeautifulSoup(url_response.text)\n",
    "    \n",
    "    title = soup.find('h1', class_='entry-title').text\n",
    "    content = soup.find('div', class_='entry-content').text.strip()\n",
    "    \n",
    "    article_dict = {\n",
    "        'title': title,\n",
    "        'content': content\n",
    "    }\n",
    "    \n",
    "    articles.append(article_dict)"
   ]
  },
  {
   "cell_type": "code",
   "execution_count": 12,
   "id": "71386668-2215-464e-8a94-8533ee0e0379",
   "metadata": {},
   "outputs": [
    {
     "data": {
      "text/plain": [
       "[{'title': 'Spotlight on APIDA Voices: Celebrating Heritage and Inspiring Change ft. Arbeena Thapa',\n",
       "  'content': 'May is traditionally known as Asian American and Pacific Islander (AAPI) Heritage Month. This month we celebrate the history and contributions made possible by our AAPI friends, family, and community. We also examine our level of support and seek opportunities to better understand the AAPI community.\\n\\nIn an effort to address real concerns and experiences, we sat down with Arbeena Thapa, one of Codeup’s Financial Aid and Enrollment Managers.\\nArbeena identifies as Nepali American and Desi. Arbeena’s parents immigrated to Texas in 1988 for better employment and educational opportunities. Arbeena’s older sister was five when they made the move to the US. Arbeena was born later, becoming the first in her family to be a US citizen.\\nAt Codeup we take our efforts at inclusivity very seriously. After speaking with Arbeena, we were taught that the term AAPI excludes Desi-American individuals. Hence, we will now use the term Asian Pacific Islander Desi American (APIDA).\\nHere is how the rest of our conversation with Arbeena went!\\nHow do you celebrate or connect with your heritage and cultural traditions?\\n“I celebrate Nepal’s version of Christmas or Dashain. This is a nine-day celebration also known as Dussehra. I grew up as Hindu and I identify as Hindu, this is a very large part of my heritage. “\\n“Other ways I connect with my culture include sharing food! Momos are South Asian Dumplings and they’re my favorite to make and share.”\\n“On my Asian American side, I am an advocate of immigrant justice and erasure within APIDA social or political movements. I participate in events to embrace my identity such as immigrant justice advocacy because I come from a mixed-status family. I’ve always been in a community with undocumented Asian immigrants. .”\\nWhat are some of the challenges you have faced as an APIDA individual, personally or professionally?\\n“I often struggle with being gendered as compliant or a pushover. Professionally, I am often stereotyped as meek, so I’ve been overlooked for leadership roles. We are seen as perpetually foreign; people tend to other us in that way, yet put us on a pedestal for what a model minority looks like. This has made me hesitant to share my heritage in the past because these assumptions get mapped onto me. ”\\nCan you describe some common barriers of entry that APIDA individuals, specifically women may face when trying to enter or advance in the workplace?\\n“Being overlooked for leadership. In the past, I have not been viewed as a leader. People sometimes have preconceived stereotypes of Asian women not being able to be bold, or being vocal can be mistaken for being too emotional. “\\nHow do you believe microaggressions impact APIDA individuals in the workplace? Can you provide examples of such microaggressions?\\n“Erasure is big. To me, only saying ‘Merry Christmas’ isn’t inclusive to other religions. People are often resistant to saying ‘Happy Holidays,’ but saying Merry Christmas excludes, and does not appreciate my heritage. “\\n“Often microaggressions are not micro at all. They typically are not aggressive racialized violence, but the term ‘micro’ minimizes impact.”\\n“Some that I’ve heard are ‘What kind of Asian are you?’ or ‘Where are you from?’ This automatically makes me the ‘other’ and not seen as American. Even within the APIDA community, South Asians are overlooked as “Asian”.”\\nHow important is representation, specifically APIDA representation, in organizational leadership positions?\\n“I want to say that it is important to have someone who looks like you in leadership roles, and it is, but those leaders may not share the same beliefs as you. Certain privileges such as wealth, resources, or lack of interaction with lower-socioeconomic-status Asian Americans may cause a difference in community politics. I do not think the bamboo ceiling is acceptable, but the company you work for plays a big part in your politics and belief alignment.”\\nHow do you feel about code-switching, and have you ever felt it necessary to code-switch?\\n“I like sharing South Asian terms or connecting with others that have similar heritage and culture. A workplace that is welcoming to going into this sort of breakout is refreshing and makes space for us. However, having to code-switch could also mean a workplace that is not conducive and welcoming of other cultures. “\\nFinally, in your opinion, what long-term strategies can create lasting change in the workplace and ensure support, equality, and inclusion for APIDA individuals?\\n“Prior to a career in financial aid, I did a lot of research related to the post-9/11 immigration of the South Asian diaspora. This background made me heavily rely on grassroots organizing. Hire the people that want to innovate, hire the changemakers, hire the button-pushers. Reduce reliance on whiteness as change. This will become natural for the organization and become organizational change. Change comes from us on the ground.”\\nA huge thank you to Arbeena Thapa for sharing her experiences, and being vulnerable with us. Your words were inspiring and the opportunity to understand your perspective more has been valuable. We hope we can become better support for the APIDA community as we learn and grow on our journey of cultivating inclusive growth.'},\n",
       " {'title': 'Women in tech: Panelist Spotlight – Magdalena Rahn',\n",
       "  'content': 'Women in tech: Panelist Spotlight – Magdalena Rahn\\nCodeup is hosting a Women in Tech Panel in honor of Women’s History Month on March 29th, 2023! To further celebrate, we’d like to spotlight each of our panelists leading up to the discussion to learn a bit about their respective experiences as women in the tech industry!\\n\\nMeet Magdalena!\\nMagdalena Rahn is a current Codeup student in a Data Science cohort in San Antonio, Texas. She has a professional background in cross-cultural communications, international business development, the wine industry and journalism. After serving in the US Navy, she decided to complement her professional skill set by attending the Data Science program at Codeup; she is set to graduate in March 2023. Magdalena is fluent in French, Bulgarian, Chinese-Mandarin, Spanish and Italian.\\nWe asked Magdalena how Codeup impacted her career, and she replied “Codeup has provided a solid foundation in analytical processes, programming and data science methods, and it’s been an encouragement to have such supportive instructors and wonderful classmates.”\\nDon’t forget to tune in on March 29th to sit in on an insightful conversation with Magdalena.'},\n",
       " {'title': 'Women in tech: Panelist Spotlight – Rachel Robbins-Mayhill',\n",
       "  'content': 'Women in tech: Panelist Spotlight – Rachel Robbins-Mayhill\\nCodeup is hosting a Women in Tech Panel in honor of Women’s History Month on March 29th, 2023! To further celebrate, we’d like to spotlight each of our panelists leading up to the discussion to learn a bit about their respective experiences as women in the tech industry! Meet Rachel!\\n\\nRachel Robbins-Mayhill is a Decision Science Analyst I in San Antonio, Texas. Rachel has had a varied career that includes counseling, teaching, training, community development, and military operations. Her focus has always been on assessing needs, identifying solutions, and educating individuals and groups on aligning needs and solutions in different contexts. Rachel’s passion for data science stems from her belief that data is a powerful tool for communicating patterns that can lead to hope and growth in the future.\\nIn June 2022, Rachel graduated from Codeup’s Innis cohort, where she honed her skills in data science. Shortly after, she started working as a Data Science Technical Writer with Apex Systems as a Contractor for USAA in July 2022. Her unconventional role allowed her to understand where her skills could be best utilized to support USAA in a non-contract role.\\nRachel recently joined USAA’s Data Science Delivery team as a Decision Science Analyst I in February 2023. The team is focused on delivering machine learning models for fraud prevention, and Rachel’s particular role centers around providing strategic process solutions for the team in collaboration with Operational and Model Risk components.\\nIn addition to her career, Rachel is currently pursuing a master’s degree in Applied Data Science from Syracuse University, further expanding her knowledge and skills in the field. Rachel is passionate about collaborating with individuals who share her belief in the potential of others and strive to achieve growth through logical, informed action. She welcomes LinkedIn connections and is excited about supporting the network of CodeUp alumni!\\nWe asked Rachel how Codeup impacted her career, and she replied “Codeup delivered a comprehensive education in all facets of the data science pipeline, laying a strong foundation for me to build upon. Through repeated hands-on practice, I developed a reliable process that was immediately applicable in my job. Collaborative group projects were instrumental in helping me hone my skills in project management, allowing me to navigate complex data science projects with comfortability. Thanks to this invaluable experience, I was able to make significant strides in my career within just six months of graduating from Codeup.”\\nDon’t forget to tune in on March 29th to sit in on an insightful conversation.'},\n",
       " {'title': 'Women in Tech: Panelist Spotlight – Sarah Mellor',\n",
       "  'content': 'Women in tech: Panelist Spotlight – Sarah Mellor\\xa0\\nCodeup is hosting a Women in Tech Panel in honor of Women’s History Month on March 29th, 2023! To further celebrate, we’d like to spotlight each of our panelists leading up to the discussion to learn a bit about their respective experiences as women in the tech industry!\\nMeet Sarah!\\nSarah Mellor currently works as the Director of People Operations. She joined Codeup four and a half years ago as an Admissions Manager. She went on to build out and lead the Marketing and Admissions team, while picking up People Ops tasks and projects here and there until moving over to lead the People Ops team two years ago. Prior to Codeup, she worked at education-focused non-profits in Washington, DC and Boulder, Colorado. She graduated from Wake Forest University.\\nWe asked Sarah how Codeup has impacted her career, and her response was “I have absolutely loved having the privilege to grow alongside Codeup. In my time here across multiple different roles and departments, I’ve seen a lot of change. The consistent things have always been the high quality of passionate and hardworking people I get to work with; the impactful mission we get to work on; and the inspiring students who trust us with their career change.”\\nDon’t forget to tune in on March 29th to sit in on an insightful conversation.'},\n",
       " {'title': 'Women in Tech: Panelist Spotlight – Madeleine Capper',\n",
       "  'content': 'Women in tech: Panelist Spotlight – Madeleine Capper\\nCodeup is hosting a Women in Tech Panel in honor of Women’s History Month on March 29th, 2023! To further celebrate, we’d like to spotlight each of our panelists leading up to the discussion to learn a bit about their respective experiences as women in the tech industry!\\nMeet Madeleine!\\nMadeleine Capper is a Data Scientist in San Antonio, Texas. A long-standing San Antonio resident, she studied mathematics at the University of Texas San Antonio and has worked as a Data Scientist for Booz Allen Hamilton. Madeleine currently teaches Data Science at Codeup, where she works daily with burgeoning data professionals to help them actualize their career aspirations through technical education.\\nMadeleine attended Codeup as a student in early 2019 as a pupil in the very first Codeup Data Science cohort. The program proved immediately effective and she was the first student to obtain a data career out of the program. After working at Booz Allen Hamilton, Madeleine’s passion for education in conjunction with her appreciation for Codeup’s capacity for transformative life change brought her back to the institution in an instructional capacity, where she has been teaching for two years.\\nDon’t forget to tune in on March 29th to sit in on an insightful conversation.'}]"
      ]
     },
     "execution_count": 12,
     "metadata": {},
     "output_type": "execute_result"
    }
   ],
   "source": [
    "articles[0:5]"
   ]
  },
  {
   "cell_type": "markdown",
   "id": "ce2d5b03-9208-4a17-9ef4-42cde93e6e06",
   "metadata": {},
   "source": [
    "### Put in df"
   ]
  },
  {
   "cell_type": "code",
   "execution_count": 13,
   "id": "a13cd2b4-3c17-4c0a-adab-1e40a578c280",
   "metadata": {},
   "outputs": [
    {
     "data": {
      "text/html": [
       "<div>\n",
       "<style scoped>\n",
       "    .dataframe tbody tr th:only-of-type {\n",
       "        vertical-align: middle;\n",
       "    }\n",
       "\n",
       "    .dataframe tbody tr th {\n",
       "        vertical-align: top;\n",
       "    }\n",
       "\n",
       "    .dataframe thead th {\n",
       "        text-align: right;\n",
       "    }\n",
       "</style>\n",
       "<table border=\"1\" class=\"dataframe\">\n",
       "  <thead>\n",
       "    <tr style=\"text-align: right;\">\n",
       "      <th></th>\n",
       "      <th>title</th>\n",
       "      <th>content</th>\n",
       "    </tr>\n",
       "  </thead>\n",
       "  <tbody>\n",
       "    <tr>\n",
       "      <th>0</th>\n",
       "      <td>Spotlight on APIDA Voices: Celebrating Heritag...</td>\n",
       "      <td>May is traditionally known as Asian American a...</td>\n",
       "    </tr>\n",
       "    <tr>\n",
       "      <th>1</th>\n",
       "      <td>Women in tech: Panelist Spotlight – Magdalena ...</td>\n",
       "      <td>Women in tech: Panelist Spotlight – Magdalena ...</td>\n",
       "    </tr>\n",
       "    <tr>\n",
       "      <th>2</th>\n",
       "      <td>Women in tech: Panelist Spotlight – Rachel Rob...</td>\n",
       "      <td>Women in tech: Panelist Spotlight – Rachel Rob...</td>\n",
       "    </tr>\n",
       "    <tr>\n",
       "      <th>3</th>\n",
       "      <td>Women in Tech: Panelist Spotlight – Sarah Mellor</td>\n",
       "      <td>Women in tech: Panelist Spotlight – Sarah Mell...</td>\n",
       "    </tr>\n",
       "    <tr>\n",
       "      <th>4</th>\n",
       "      <td>Women in Tech: Panelist Spotlight – Madeleine ...</td>\n",
       "      <td>Women in tech: Panelist Spotlight – Madeleine ...</td>\n",
       "    </tr>\n",
       "    <tr>\n",
       "      <th>5</th>\n",
       "      <td>Black Excellence in Tech: Panelist Spotlight –...</td>\n",
       "      <td>Black excellence in tech: Panelist Spotlight –...</td>\n",
       "    </tr>\n",
       "  </tbody>\n",
       "</table>\n",
       "</div>"
      ],
      "text/plain": [
       "                                               title  \\\n",
       "0  Spotlight on APIDA Voices: Celebrating Heritag...   \n",
       "1  Women in tech: Panelist Spotlight – Magdalena ...   \n",
       "2  Women in tech: Panelist Spotlight – Rachel Rob...   \n",
       "3   Women in Tech: Panelist Spotlight – Sarah Mellor   \n",
       "4  Women in Tech: Panelist Spotlight – Madeleine ...   \n",
       "5  Black Excellence in Tech: Panelist Spotlight –...   \n",
       "\n",
       "                                             content  \n",
       "0  May is traditionally known as Asian American a...  \n",
       "1  Women in tech: Panelist Spotlight – Magdalena ...  \n",
       "2  Women in tech: Panelist Spotlight – Rachel Rob...  \n",
       "3  Women in tech: Panelist Spotlight – Sarah Mell...  \n",
       "4  Women in tech: Panelist Spotlight – Madeleine ...  \n",
       "5  Black excellence in tech: Panelist Spotlight –...  "
      ]
     },
     "execution_count": 13,
     "metadata": {},
     "output_type": "execute_result"
    }
   ],
   "source": [
    "blog_article_df = pd.DataFrame(articles)\n",
    "blog_article_df"
   ]
  },
  {
   "cell_type": "code",
   "execution_count": 14,
   "id": "ac91ae3a-cf01-49c0-bd48-679aa8b17853",
   "metadata": {},
   "outputs": [],
   "source": [
    "blog_article_df.to_csv('blog_articles.csv', index=False)"
   ]
  },
  {
   "cell_type": "markdown",
   "id": "bca4f940-a4d0-4137-a50d-eb2cdc33d2bb",
   "metadata": {},
   "source": [
    "## News Articles\n",
    "\n",
    "We will now be scraping text data from inshorts, a website that provides a brief overview of many different topics.\n",
    "\n",
    "Write a function that scrapes the news articles for the following topics:\n",
    "\n",
    "* Business\n",
    "* Sports\n",
    "* Technology\n",
    "* Entertainment\n",
    "\n",
    "The end product of this should be a function named get_news_articles that returns a list of dictionaries, where each dictionary has this shape:\n",
    "\n",
    "```python\n",
    "{\n",
    "    'title': 'The article title',\n",
    "    'content': 'The article content',\n",
    "    'category': 'business' # for example\n",
    "}\n",
    "```"
   ]
  },
  {
   "cell_type": "code",
   "execution_count": 15,
   "id": "ba22e38e-028b-4597-a814-8421d44c04fa",
   "metadata": {},
   "outputs": [],
   "source": [
    "url = 'https://inshorts.com/en/read'\n",
    "response = get(url)\n",
    "soup = BeautifulSoup(response.content, 'html.parser')"
   ]
  },
  {
   "cell_type": "markdown",
   "id": "9d546e96-5e96-488a-baff-54180c946cd6",
   "metadata": {},
   "source": [
    "### Get title"
   ]
  },
  {
   "cell_type": "code",
   "execution_count": 16,
   "id": "a06b3db9-f5b1-401c-9f56-bddb9128129e",
   "metadata": {},
   "outputs": [
    {
     "data": {
      "text/plain": [
       "'Supreme Court verdict on same-sex marriage likely tomorrow'"
      ]
     },
     "execution_count": 16,
     "metadata": {},
     "output_type": "execute_result"
    }
   ],
   "source": [
    "soup.find_all('span', itemprop='headline')[0].text"
   ]
  },
  {
   "cell_type": "markdown",
   "id": "f3e5e660-8128-47f3-9cdd-1abdce0c8455",
   "metadata": {},
   "source": [
    "### Get content"
   ]
  },
  {
   "cell_type": "code",
   "execution_count": 17,
   "id": "1c47f771-a85f-41b8-be8c-bf035793fefd",
   "metadata": {},
   "outputs": [
    {
     "data": {
      "text/plain": [
       "'The Supreme Court on Tuesday will likely deliver its verdict on whether same-sex marriages should be legally recognised in India, reports said. In May, the court reserved its verdict on petitions made by several LGBTQIA+ couples in the matter. The petitions argued that marriage brings with it several rights, privileges, and obligations that are \"bestowed and protected by the law\".'"
      ]
     },
     "execution_count": 17,
     "metadata": {},
     "output_type": "execute_result"
    }
   ],
   "source": [
    "soup.find_all('div', itemprop='articleBody')[0].text"
   ]
  },
  {
   "cell_type": "markdown",
   "id": "cebdf687-de01-4990-b279-bc0ee72e4252",
   "metadata": {},
   "source": [
    "### Put it together"
   ]
  },
  {
   "cell_type": "code",
   "execution_count": 18,
   "id": "4e7577cc-c938-462d-bc1d-9ba7e32bb7c1",
   "metadata": {},
   "outputs": [],
   "source": [
    "categories = ['business', 'sports', 'technology', 'entertainment']\n",
    "\n",
    "inshorts = []\n",
    "\n",
    "for category in categories:\n",
    "    \n",
    "    url = 'https://inshorts.com/en/read' + '/' + category\n",
    "    response = get(url)\n",
    "    soup = BeautifulSoup(response.content, 'html.parser')\n",
    "    \n",
    "    titles = [span.text for span in soup.find_all('span', itemprop='headline')]\n",
    "    contents = [div.text for div in soup.find_all('div', itemprop='articleBody')]\n",
    "    \n",
    "    for i in range(len(titles)):\n",
    "        \n",
    "        article = {\n",
    "            'title': titles[i],\n",
    "            'content': contents[i],\n",
    "            'category': category,\n",
    "        }\n",
    "        \n",
    "        inshorts.append(article)"
   ]
  },
  {
   "cell_type": "code",
   "execution_count": 19,
   "id": "781be619-772a-4a1f-8052-dcd940cfdf62",
   "metadata": {},
   "outputs": [
    {
     "data": {
      "text/plain": [
       "[{'title': 'Some working overtime to harm us: Adani Group amid Mahua Moitra bribery allegations',\n",
       "  'content': 'Adani Group has reacted amid allegations of TMC MP Mahua Moitra \\'accepting bribes from Hiranandani Group\\' for asking questions \\'targeting\\' Gautam Adani in Parliament. \"This development corroborates our [earlier] statement...that some groups and individuals have been working overtime to harm our name, goodwill and market standing,\" said an Adani spokesperson. Moitra has denied the allegations.',\n",
       "  'category': 'business'},\n",
       " {'title': 'Oil prices steady above $90 as investors assess Israel-Hamas war',\n",
       "  'content': 'Brent oil prices steadied above $90 (over ₹7,492) per barrel on Monday as investors are trying to assess the impact of the ongoing Israel-Hamas war. This comes amid concerns of potential escalation involving Iran. Palestinian militant group Hamas had launched rockets at Israel in a surprise attack earlier this month. ',\n",
       "  'category': 'business'},\n",
       " {'title': \"SC rejects telcos' plea to see licence fee as revenue expenditure\",\n",
       "  'content': 'The Supreme Court on Monday rejected a request by telecommunication companies to treat licence fees paid post-July 1999 as revenue expenditure. Ruling in favour of the Income Tax Department, the court held that the fees should be treated as capital expenditure. Earlier, the Delhi High Court held that the fees cannot be construed as capital expenditure.',\n",
       "  'category': 'business'},\n",
       " {'title': \"SpiceJet stock dip amid 'Gangwal not interested in airline' report\",\n",
       "  'content': 'SpiceJet\\'s shares tanked 11% on Monday after a report claimed that Indian-American billionaire Rakesh Gangwal doesn\\'t have the \"remotest\" interest in the airline and isn\\'t seeking to buy a stake in it. Gangwal wants SEBI to investigate the root of \"baseless\" rumour about him seeking to buy a stake in cash-strapped SpiceJet, the report added. Gangwal is Co-founder of IndiGo.',\n",
       "  'category': 'business'},\n",
       " {'title': \"HDFC Bank's Q2 profit jumps 50% to ₹15,976 crore\",\n",
       "  'content': \"HDFC Bank on Monday reported a net profit of over ₹15,976 crore in the July-September quarter, which was up just over 50% year-on-year. This is HDFC Bank's first quarterly financial report since its merger with Housing Development Finance Corp (HDFC). The gross non-performing assets (NPA) of the bank were at 1.34% of gross advances as on September 30, 2023.\",\n",
       "  'category': 'business'}]"
      ]
     },
     "execution_count": 19,
     "metadata": {},
     "output_type": "execute_result"
    }
   ],
   "source": [
    "inshorts[0:5]"
   ]
  },
  {
   "cell_type": "code",
   "execution_count": 20,
   "id": "c53d2b05-8767-40a6-bdbc-a487f111b144",
   "metadata": {},
   "outputs": [
    {
     "data": {
      "text/html": [
       "<div>\n",
       "<style scoped>\n",
       "    .dataframe tbody tr th:only-of-type {\n",
       "        vertical-align: middle;\n",
       "    }\n",
       "\n",
       "    .dataframe tbody tr th {\n",
       "        vertical-align: top;\n",
       "    }\n",
       "\n",
       "    .dataframe thead th {\n",
       "        text-align: right;\n",
       "    }\n",
       "</style>\n",
       "<table border=\"1\" class=\"dataframe\">\n",
       "  <thead>\n",
       "    <tr style=\"text-align: right;\">\n",
       "      <th></th>\n",
       "      <th>title</th>\n",
       "      <th>content</th>\n",
       "      <th>category</th>\n",
       "    </tr>\n",
       "  </thead>\n",
       "  <tbody>\n",
       "    <tr>\n",
       "      <th>0</th>\n",
       "      <td>Some working overtime to harm us: Adani Group ...</td>\n",
       "      <td>Adani Group has reacted amid allegations of TM...</td>\n",
       "      <td>business</td>\n",
       "    </tr>\n",
       "    <tr>\n",
       "      <th>1</th>\n",
       "      <td>Oil prices steady above $90 as investors asses...</td>\n",
       "      <td>Brent oil prices steadied above $90 (over ₹7,4...</td>\n",
       "      <td>business</td>\n",
       "    </tr>\n",
       "    <tr>\n",
       "      <th>2</th>\n",
       "      <td>SC rejects telcos' plea to see licence fee as ...</td>\n",
       "      <td>The Supreme Court on Monday rejected a request...</td>\n",
       "      <td>business</td>\n",
       "    </tr>\n",
       "    <tr>\n",
       "      <th>3</th>\n",
       "      <td>SpiceJet stock dip amid 'Gangwal not intereste...</td>\n",
       "      <td>SpiceJet's shares tanked 11% on Monday after a...</td>\n",
       "      <td>business</td>\n",
       "    </tr>\n",
       "    <tr>\n",
       "      <th>4</th>\n",
       "      <td>HDFC Bank's Q2 profit jumps 50% to ₹15,976 crore</td>\n",
       "      <td>HDFC Bank on Monday reported a net profit of o...</td>\n",
       "      <td>business</td>\n",
       "    </tr>\n",
       "    <tr>\n",
       "      <th>5</th>\n",
       "      <td>What is the TCS bribes-for-jobs scandal?</td>\n",
       "      <td>The bribes-for-jobs scandal at Tata Consultanc...</td>\n",
       "      <td>business</td>\n",
       "    </tr>\n",
       "    <tr>\n",
       "      <th>6</th>\n",
       "      <td>Former Bank of China Chairman Liu arrested ove...</td>\n",
       "      <td>Liu Liange, who resigned as the Chairman of Ba...</td>\n",
       "      <td>business</td>\n",
       "    </tr>\n",
       "    <tr>\n",
       "      <th>7</th>\n",
       "      <td>BioNTech warns of write-off of up to ₹7,888 cr...</td>\n",
       "      <td>Germany's BioNTech flagged write-downs of up t...</td>\n",
       "      <td>business</td>\n",
       "    </tr>\n",
       "    <tr>\n",
       "      <th>8</th>\n",
       "      <td>Rupee hits 1-year low of 83.28 against US dollar</td>\n",
       "      <td>The Indian Rupee hit a one-year low of 83.28 a...</td>\n",
       "      <td>business</td>\n",
       "    </tr>\n",
       "    <tr>\n",
       "      <th>9</th>\n",
       "      <td>Activision Blizzard CEO to leave firm with $40...</td>\n",
       "      <td>Activision Blizzard CEO Bobby Kotick will leav...</td>\n",
       "      <td>business</td>\n",
       "    </tr>\n",
       "    <tr>\n",
       "      <th>10</th>\n",
       "      <td>Dust storm hits Australia-Sri Lanka match, peo...</td>\n",
       "      <td>A dust storm hit Australia-Sri Lanka ODI World...</td>\n",
       "      <td>sports</td>\n",
       "    </tr>\n",
       "    <tr>\n",
       "      <th>11</th>\n",
       "      <td>Babar Azam has scored many runs for himself: G...</td>\n",
       "      <td>Ex-India opener Gautam Gambhir said Babar Azam...</td>\n",
       "      <td>sports</td>\n",
       "    </tr>\n",
       "    <tr>\n",
       "      <th>12</th>\n",
       "      <td>Only place for bouncers at chest height is sta...</td>\n",
       "      <td>Discussing Pakistan's approach while bowling t...</td>\n",
       "      <td>sports</td>\n",
       "    </tr>\n",
       "    <tr>\n",
       "      <th>13</th>\n",
       "      <td>David Warner helps groundsmen to cover ground ...</td>\n",
       "      <td>Australia opener David Warner helped the groun...</td>\n",
       "      <td>sports</td>\n",
       "    </tr>\n",
       "    <tr>\n",
       "      <th>14</th>\n",
       "      <td>Australia's Mitchell Starc gives 2 'mankad' wa...</td>\n",
       "      <td>Australia pacer Mitchell Starc gave two 'manka...</td>\n",
       "      <td>sports</td>\n",
       "    </tr>\n",
       "    <tr>\n",
       "      <th>15</th>\n",
       "      <td>Pak had lost vs Eng as ‘Dil..Pakistan’ not pla...</td>\n",
       "      <td>Reacting to Pakistan team director Mickey Arth...</td>\n",
       "      <td>sports</td>\n",
       "    </tr>\n",
       "    <tr>\n",
       "      <th>16</th>\n",
       "      <td>Cricketers react to inclusion of cricket in Ol...</td>\n",
       "      <td>India batter Suryakumar Yadav, while reacting ...</td>\n",
       "      <td>sports</td>\n",
       "    </tr>\n",
       "    <tr>\n",
       "      <th>17</th>\n",
       "      <td>Fantastic to see: Bhogle on cricket's inclusio...</td>\n",
       "      <td>Commentator Harsha Bhogle, while reacting to c...</td>\n",
       "      <td>sports</td>\n",
       "    </tr>\n",
       "    <tr>\n",
       "      <th>18</th>\n",
       "      <td>Presentation on Virat Kohli's popularity used ...</td>\n",
       "      <td>A presentation on Virat Kohli's popularity was...</td>\n",
       "      <td>sports</td>\n",
       "    </tr>\n",
       "    <tr>\n",
       "      <th>19</th>\n",
       "      <td>Brazilian football legend Ronaldinho meets Mam...</td>\n",
       "      <td>Brazilian football legend Ronaldinho met Mamat...</td>\n",
       "      <td>sports</td>\n",
       "    </tr>\n",
       "    <tr>\n",
       "      <th>20</th>\n",
       "      <td>What is the TCS bribes-for-jobs scandal?</td>\n",
       "      <td>The bribes-for-jobs scandal at Tata Consultanc...</td>\n",
       "      <td>technology</td>\n",
       "    </tr>\n",
       "    <tr>\n",
       "      <th>21</th>\n",
       "      <td>Twitch streamer Hasan Piker raises ₹5.6 cr for...</td>\n",
       "      <td>Hasan Piker, who livestreams videos on Twitch,...</td>\n",
       "      <td>technology</td>\n",
       "    </tr>\n",
       "    <tr>\n",
       "      <th>22</th>\n",
       "      <td>Activision Blizzard CEO to leave firm with $40...</td>\n",
       "      <td>Activision Blizzard CEO Bobby Kotick will leav...</td>\n",
       "      <td>technology</td>\n",
       "    </tr>\n",
       "    <tr>\n",
       "      <th>23</th>\n",
       "      <td>TCS to hire 40,000 freshers this year</td>\n",
       "      <td>Tata Consultancy Services (TCS) is on track to...</td>\n",
       "      <td>technology</td>\n",
       "    </tr>\n",
       "    <tr>\n",
       "      <th>24</th>\n",
       "      <td>High risk warning for iPhone 8 and later model...</td>\n",
       "      <td>The government's CERT-In has issued a high ris...</td>\n",
       "      <td>technology</td>\n",
       "    </tr>\n",
       "    <tr>\n",
       "      <th>25</th>\n",
       "      <td>Google, Microsoft chatbots falsely say there's...</td>\n",
       "      <td>Amid the Israel-Hamas war, Google's Bard and M...</td>\n",
       "      <td>technology</td>\n",
       "    </tr>\n",
       "    <tr>\n",
       "      <th>26</th>\n",
       "      <td>NASA said, 'Why don't you sell this to US': IS...</td>\n",
       "      <td>ISRO Chairman S Somanath said that experts rep...</td>\n",
       "      <td>technology</td>\n",
       "    </tr>\n",
       "    <tr>\n",
       "      <th>27</th>\n",
       "      <td>Advertising revenue on X drops massively durin...</td>\n",
       "      <td>X owner Elon Musk said advertising revenue on ...</td>\n",
       "      <td>technology</td>\n",
       "    </tr>\n",
       "    <tr>\n",
       "      <th>28</th>\n",
       "      <td>TCS fires 16 employees for bribes-for-jobs sca...</td>\n",
       "      <td>Tata Consultancy Services (TCS) in an exchange...</td>\n",
       "      <td>technology</td>\n",
       "    </tr>\n",
       "    <tr>\n",
       "      <th>29</th>\n",
       "      <td>Australia imposes $383,000 fine on X over anti...</td>\n",
       "      <td>Australia's eSafety Commissioner Julie Inman G...</td>\n",
       "      <td>technology</td>\n",
       "    </tr>\n",
       "    <tr>\n",
       "      <th>30</th>\n",
       "      <td>Fatima reacts to comparisons with Kangana for ...</td>\n",
       "      <td>Fatima Sana Shaikh, who will be seen portrayin...</td>\n",
       "      <td>entertainment</td>\n",
       "    </tr>\n",
       "    <tr>\n",
       "      <th>31</th>\n",
       "      <td>Sunny left no stone unturned to show he was su...</td>\n",
       "      <td>Actor Bobby Deol, speaking about his actor-bro...</td>\n",
       "      <td>entertainment</td>\n",
       "    </tr>\n",
       "    <tr>\n",
       "      <th>32</th>\n",
       "      <td>Was concerned if it'd be accepted: Rani on SRK...</td>\n",
       "      <td>Rani Mukerji, on Kuch Kuch Hota Hai's 25th ann...</td>\n",
       "      <td>entertainment</td>\n",
       "    </tr>\n",
       "    <tr>\n",
       "      <th>33</th>\n",
       "      <td>Kajol dresses as Anjali on 25th anniversary of...</td>\n",
       "      <td>On the 25th anniversary of 'Kuch Kuch Hota Hai...</td>\n",
       "      <td>entertainment</td>\n",
       "    </tr>\n",
       "    <tr>\n",
       "      <th>34</th>\n",
       "      <td>I'm a fan of only 2 actors, that's Alia and Ra...</td>\n",
       "      <td>Actor Bobby Deol said that he is a fan of two ...</td>\n",
       "      <td>entertainment</td>\n",
       "    </tr>\n",
       "    <tr>\n",
       "      <th>35</th>\n",
       "      <td>Want to say I'm feminist because it means gend...</td>\n",
       "      <td>Actress Shefali Shah has said that if asked, s...</td>\n",
       "      <td>entertainment</td>\n",
       "    </tr>\n",
       "    <tr>\n",
       "      <th>36</th>\n",
       "      <td>SRK forgets Salman while thanking KKHH cast, r...</td>\n",
       "      <td>Marking 25th anniversary of 'Kuch Kuch Hota Ha...</td>\n",
       "      <td>entertainment</td>\n",
       "    </tr>\n",
       "    <tr>\n",
       "      <th>37</th>\n",
       "      <td>As long as I'm last, I'm okay: Ratna on Naseer...</td>\n",
       "      <td>Ratna Pathak Shah, in an interview with Humans...</td>\n",
       "      <td>entertainment</td>\n",
       "    </tr>\n",
       "    <tr>\n",
       "      <th>38</th>\n",
       "      <td>People think those working in Bollywood aren't...</td>\n",
       "      <td>Actress Bhagyashree said that people often thi...</td>\n",
       "      <td>entertainment</td>\n",
       "    </tr>\n",
       "    <tr>\n",
       "      <th>39</th>\n",
       "      <td>Jairam recalls Uzbek PM's joy over Hema's msg ...</td>\n",
       "      <td>On the occasion of actor and BJP MP Hema Malin...</td>\n",
       "      <td>entertainment</td>\n",
       "    </tr>\n",
       "  </tbody>\n",
       "</table>\n",
       "</div>"
      ],
      "text/plain": [
       "                                                title  \\\n",
       "0   Some working overtime to harm us: Adani Group ...   \n",
       "1   Oil prices steady above $90 as investors asses...   \n",
       "2   SC rejects telcos' plea to see licence fee as ...   \n",
       "3   SpiceJet stock dip amid 'Gangwal not intereste...   \n",
       "4    HDFC Bank's Q2 profit jumps 50% to ₹15,976 crore   \n",
       "5            What is the TCS bribes-for-jobs scandal?   \n",
       "6   Former Bank of China Chairman Liu arrested ove...   \n",
       "7   BioNTech warns of write-off of up to ₹7,888 cr...   \n",
       "8    Rupee hits 1-year low of 83.28 against US dollar   \n",
       "9   Activision Blizzard CEO to leave firm with $40...   \n",
       "10  Dust storm hits Australia-Sri Lanka match, peo...   \n",
       "11  Babar Azam has scored many runs for himself: G...   \n",
       "12  Only place for bouncers at chest height is sta...   \n",
       "13  David Warner helps groundsmen to cover ground ...   \n",
       "14  Australia's Mitchell Starc gives 2 'mankad' wa...   \n",
       "15  Pak had lost vs Eng as ‘Dil..Pakistan’ not pla...   \n",
       "16  Cricketers react to inclusion of cricket in Ol...   \n",
       "17  Fantastic to see: Bhogle on cricket's inclusio...   \n",
       "18  Presentation on Virat Kohli's popularity used ...   \n",
       "19  Brazilian football legend Ronaldinho meets Mam...   \n",
       "20           What is the TCS bribes-for-jobs scandal?   \n",
       "21  Twitch streamer Hasan Piker raises ₹5.6 cr for...   \n",
       "22  Activision Blizzard CEO to leave firm with $40...   \n",
       "23             TCS to hire 40,000 freshers this year    \n",
       "24  High risk warning for iPhone 8 and later model...   \n",
       "25  Google, Microsoft chatbots falsely say there's...   \n",
       "26  NASA said, 'Why don't you sell this to US': IS...   \n",
       "27  Advertising revenue on X drops massively durin...   \n",
       "28  TCS fires 16 employees for bribes-for-jobs sca...   \n",
       "29  Australia imposes $383,000 fine on X over anti...   \n",
       "30  Fatima reacts to comparisons with Kangana for ...   \n",
       "31  Sunny left no stone unturned to show he was su...   \n",
       "32  Was concerned if it'd be accepted: Rani on SRK...   \n",
       "33  Kajol dresses as Anjali on 25th anniversary of...   \n",
       "34  I'm a fan of only 2 actors, that's Alia and Ra...   \n",
       "35  Want to say I'm feminist because it means gend...   \n",
       "36  SRK forgets Salman while thanking KKHH cast, r...   \n",
       "37  As long as I'm last, I'm okay: Ratna on Naseer...   \n",
       "38  People think those working in Bollywood aren't...   \n",
       "39  Jairam recalls Uzbek PM's joy over Hema's msg ...   \n",
       "\n",
       "                                              content       category  \n",
       "0   Adani Group has reacted amid allegations of TM...       business  \n",
       "1   Brent oil prices steadied above $90 (over ₹7,4...       business  \n",
       "2   The Supreme Court on Monday rejected a request...       business  \n",
       "3   SpiceJet's shares tanked 11% on Monday after a...       business  \n",
       "4   HDFC Bank on Monday reported a net profit of o...       business  \n",
       "5   The bribes-for-jobs scandal at Tata Consultanc...       business  \n",
       "6   Liu Liange, who resigned as the Chairman of Ba...       business  \n",
       "7   Germany's BioNTech flagged write-downs of up t...       business  \n",
       "8   The Indian Rupee hit a one-year low of 83.28 a...       business  \n",
       "9   Activision Blizzard CEO Bobby Kotick will leav...       business  \n",
       "10  A dust storm hit Australia-Sri Lanka ODI World...         sports  \n",
       "11  Ex-India opener Gautam Gambhir said Babar Azam...         sports  \n",
       "12  Discussing Pakistan's approach while bowling t...         sports  \n",
       "13  Australia opener David Warner helped the groun...         sports  \n",
       "14  Australia pacer Mitchell Starc gave two 'manka...         sports  \n",
       "15  Reacting to Pakistan team director Mickey Arth...         sports  \n",
       "16  India batter Suryakumar Yadav, while reacting ...         sports  \n",
       "17  Commentator Harsha Bhogle, while reacting to c...         sports  \n",
       "18  A presentation on Virat Kohli's popularity was...         sports  \n",
       "19  Brazilian football legend Ronaldinho met Mamat...         sports  \n",
       "20  The bribes-for-jobs scandal at Tata Consultanc...     technology  \n",
       "21  Hasan Piker, who livestreams videos on Twitch,...     technology  \n",
       "22  Activision Blizzard CEO Bobby Kotick will leav...     technology  \n",
       "23  Tata Consultancy Services (TCS) is on track to...     technology  \n",
       "24  The government's CERT-In has issued a high ris...     technology  \n",
       "25  Amid the Israel-Hamas war, Google's Bard and M...     technology  \n",
       "26  ISRO Chairman S Somanath said that experts rep...     technology  \n",
       "27  X owner Elon Musk said advertising revenue on ...     technology  \n",
       "28  Tata Consultancy Services (TCS) in an exchange...     technology  \n",
       "29  Australia's eSafety Commissioner Julie Inman G...     technology  \n",
       "30  Fatima Sana Shaikh, who will be seen portrayin...  entertainment  \n",
       "31  Actor Bobby Deol, speaking about his actor-bro...  entertainment  \n",
       "32  Rani Mukerji, on Kuch Kuch Hota Hai's 25th ann...  entertainment  \n",
       "33  On the 25th anniversary of 'Kuch Kuch Hota Hai...  entertainment  \n",
       "34  Actor Bobby Deol said that he is a fan of two ...  entertainment  \n",
       "35  Actress Shefali Shah has said that if asked, s...  entertainment  \n",
       "36  Marking 25th anniversary of 'Kuch Kuch Hota Ha...  entertainment  \n",
       "37  Ratna Pathak Shah, in an interview with Humans...  entertainment  \n",
       "38  Actress Bhagyashree said that people often thi...  entertainment  \n",
       "39  On the occasion of actor and BJP MP Hema Malin...  entertainment  "
      ]
     },
     "execution_count": 20,
     "metadata": {},
     "output_type": "execute_result"
    }
   ],
   "source": [
    "inshorts_article_df = pd.DataFrame(inshorts)\n",
    "inshorts_article_df"
   ]
  },
  {
   "cell_type": "code",
   "execution_count": 21,
   "id": "e0b03928-df3b-4fd6-b435-633a89675a7e",
   "metadata": {},
   "outputs": [],
   "source": [
    "inshorts_article_df.to_csv('news_articles.csv', index=False)"
   ]
  }
 ],
 "metadata": {
  "kernelspec": {
   "display_name": "Python 3 (ipykernel)",
   "language": "python",
   "name": "python3"
  },
  "language_info": {
   "codemirror_mode": {
    "name": "ipython",
    "version": 3
   },
   "file_extension": ".py",
   "mimetype": "text/x-python",
   "name": "python",
   "nbconvert_exporter": "python",
   "pygments_lexer": "ipython3",
   "version": "3.10.12"
  }
 },
 "nbformat": 4,
 "nbformat_minor": 5
}
