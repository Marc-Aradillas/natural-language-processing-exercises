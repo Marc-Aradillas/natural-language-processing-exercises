{
 "cells": [
  {
   "cell_type": "markdown",
   "id": "9127818e-ea3b-4f62-917d-9b00a074a8dd",
   "metadata": {},
   "source": [
    "# Exercise"
   ]
  },
  {
   "cell_type": "markdown",
   "id": "e3d4babd-4c8e-4d05-9dac-e9c7948ac7b0",
   "metadata": {},
   "source": [
    "### By the end of this exercise, you should have a file named `acquire.py` that contains the specified functions. If you wish, you may break your work into separate files for each website (e.g. `acquire_codeup_blog.py` and `acquire_news_articles.py`), but the end function should be present in `acquire.py` (that is, `acquire.py` should import `get_blog_articles` from the `acquire_codeup_blog` module.)"
   ]
  },
  {
   "cell_type": "markdown",
   "id": "b082848b-18f5-4334-9949-4ef6f14776b1",
   "metadata": {},
   "source": [
    "  "
   ]
  },
  {
   "cell_type": "markdown",
   "id": "06fddf80-a6a0-47a3-a725-74cf6263dee8",
   "metadata": {},
   "source": [
    "  "
   ]
  },
  {
   "cell_type": "markdown",
   "id": "2e7ff600-d69d-4899-afdd-a87134266c2a",
   "metadata": {},
   "source": [
    "  "
   ]
  },
  {
   "cell_type": "markdown",
   "id": "7fa7b876-454b-4088-8fd0-562149bd650a",
   "metadata": {},
   "source": [
    "  "
   ]
  },
  {
   "cell_type": "markdown",
   "id": "45c5e0a3-c68a-4f44-839f-4e295ff5c2eb",
   "metadata": {},
   "source": [
    "  "
   ]
  },
  {
   "cell_type": "markdown",
   "id": "5365cd5e-edfa-458b-94ec-12932ea81558",
   "metadata": {},
   "source": [
    "# 1. Codeup Blog Articles\n",
    "\n",
    "## Visit Codeup's Blog (https://codeup.com/blog/) and record the urls for at least 5 distinct blog posts. For each post, you should scrape at least the post's title and content.\n",
    "\n",
    "## Encapsulate your work in a function named `get_blog_articles` that will return a list of dictionaries, with each dictionary representing one article. The shape of each dictionary should look like this:"
   ]
  },
  {
   "cell_type": "markdown",
   "id": "4bcbece2-54c3-41a7-8180-1832d67b8c45",
   "metadata": {
    "jp-MarkdownHeadingCollapsed": true
   },
   "source": [
    ">## {  \n",
    ">##    'title': 'the title of the article',  \n",
    ">##    'content': 'the full text content of the article'  \n",
    ">## }"
   ]
  },
  {
   "cell_type": "markdown",
   "id": "65adb59e-c4a2-4f12-a58d-8f0f135121c1",
   "metadata": {},
   "source": [
    ">### **Plus any additional properties you think might be helpful.**\n",
    "\n",
    "### **Bonus:** Scrape the text of ***all*** the articles linked on codeup's blog page."
   ]
  },
  {
   "cell_type": "code",
   "execution_count": null,
   "id": "9485e57e-be31-4ded-bd08-e989617f629b",
   "metadata": {},
   "outputs": [],
   "source": [
    "import pandas as pd\n",
    "import requests\n",
    "import re\n",
    "\n",
    "from bs4 import BeautifulSoup"
   ]
  },
  {
   "cell_type": "markdown",
   "id": "02899393-4b3a-4205-93c9-5c622f2146dc",
   "metadata": {},
   "source": [
    "  "
   ]
  },
  {
   "cell_type": "markdown",
   "id": "d3bfa2a2-7638-4519-a36b-bcec404b71ce",
   "metadata": {},
   "source": [
    "  "
   ]
  },
  {
   "cell_type": "markdown",
   "id": "f5f6f3dd-817c-43d9-9676-49c88545e461",
   "metadata": {},
   "source": [
    "  "
   ]
  },
  {
   "cell_type": "code",
   "execution_count": null,
   "id": "8b1878f1-044f-4dc9-87ce-36db45b465f7",
   "metadata": {},
   "outputs": [],
   "source": [
    "  "
   ]
  },
  {
   "cell_type": "markdown",
   "id": "98e102a8-8f41-4ea5-b253-16eec19e520b",
   "metadata": {},
   "source": [
    "  "
   ]
  },
  {
   "cell_type": "markdown",
   "id": "a10a85da-55ac-4d14-9e0b-9e8ff6f49c40",
   "metadata": {},
   "source": [
    "  "
   ]
  },
  {
   "cell_type": "markdown",
   "id": "6ca0a9ed-7d60-4c39-9125-8d1bfe728afc",
   "metadata": {},
   "source": [
    "  "
   ]
  },
  {
   "cell_type": "markdown",
   "id": "6002e970-9799-4af4-b186-84f48921a951",
   "metadata": {},
   "source": [
    "  "
   ]
  },
  {
   "cell_type": "markdown",
   "id": "dd2686ae-3bfe-424a-9366-9b2b3e2053e7",
   "metadata": {},
   "source": [
    "  "
   ]
  },
  {
   "cell_type": "markdown",
   "id": "9ab13c9c-f3a6-4eea-828f-3a93189798ae",
   "metadata": {},
   "source": [
    "  "
   ]
  },
  {
   "cell_type": "markdown",
   "id": "06ddca24-bf7b-4247-b0f3-9b741d3fb106",
   "metadata": {},
   "source": [
    "  "
   ]
  },
  {
   "cell_type": "markdown",
   "id": "bcc10e25-7811-4498-b05f-4ba41892d89b",
   "metadata": {},
   "source": [
    "# 2. News Articles\n",
    "\n",
    "## - We will now be scraping text data from inshorts, a website that provides a brief overview of many different topics.\n",
    "\n",
    "### Write a function that scrapes the news articles for the following topics:\n",
    "\n",
    "### **- Business**  \n",
    "### **- Sports**  \n",
    "### **- Technology**  \n",
    "### **- Entertainment**  \n",
    "  \n",
    "### The end product of this should be a function named `get_news_articles` that returns a list of dictionaries, where each dictionary has this shape:"
   ]
  },
  {
   "cell_type": "markdown",
   "id": "6200df80-d05d-4364-8f6c-5358681e911f",
   "metadata": {
    "jp-MarkdownHeadingCollapsed": true
   },
   "source": [
    ">{  \n",
    ">    'title': 'The article title',  \n",
    ">    'content': 'The article content',  \n",
    ">    'category': 'business' # for example  \n",
    ">}  "
   ]
  },
  {
   "cell_type": "markdown",
   "id": "c5a50c58-7fbb-48ce-81ce-5ba67f303ec5",
   "metadata": {},
   "source": [
    "## Hints:\n",
    "\n",
    "### 1. Start by inspecting the website in your browser. Figure out which elements will be useful.  \n",
    "   \n",
    "### 2. Start by creating a function that handles a single article and produces a dictionary like the one above.  \n",
    "   \n",
    "### 3. Next create a function that will find all the articles on a single page and call the function you created in the last step for every article on the page.  \n",
    "  \n",
    "### 4. Now create a function that will use the previous two functions to scrape the articles from all the pages that you need, and do any additional processing that needs to be done.  "
   ]
  },
  {
   "cell_type": "code",
   "execution_count": null,
   "id": "4de4b162-8052-4a15-9fb9-50b2f412afb1",
   "metadata": {},
   "outputs": [],
   "source": []
  },
  {
   "cell_type": "markdown",
   "id": "cab9d914-7434-4488-9373-26da78b88f4d",
   "metadata": {},
   "source": [
    "  "
   ]
  },
  {
   "cell_type": "markdown",
   "id": "06e393a4-c292-4735-9c46-f0ff1d7cf695",
   "metadata": {},
   "source": [
    "  "
   ]
  },
  {
   "cell_type": "markdown",
   "id": "9a6a20fe-fa80-4407-914b-6a65c0e4c3fa",
   "metadata": {},
   "source": [
    "  "
   ]
  },
  {
   "cell_type": "markdown",
   "id": "e4042255-f3d3-464f-bf08-872d065fc732",
   "metadata": {},
   "source": [
    "  "
   ]
  },
  {
   "cell_type": "markdown",
   "id": "45a87bac-35a2-46b2-b856-72dd266a6a55",
   "metadata": {},
   "source": [
    "  "
   ]
  },
  {
   "cell_type": "markdown",
   "id": "d54dc83b-b642-47c6-9684-d2bd061a336e",
   "metadata": {},
   "source": [
    "  "
   ]
  },
  {
   "cell_type": "markdown",
   "id": "ad047a98-fa39-41ad-a3b0-a4161ce5b437",
   "metadata": {},
   "source": [
    "  "
   ]
  },
  {
   "cell_type": "markdown",
   "id": "8cc9936b-eae4-4a0a-b67a-925de33430a8",
   "metadata": {},
   "source": [
    "# **Bonus:** cache the data\n",
    "\n",
    "## Write your code such that the acquired data is saved locally in some form or fashion. Your functions that retrieve the data should prefer to read the local data instead of having to make all the requests everytime the function is called. Include a boolean flag in the functions to allow the data to be acquired \"fresh\" from the actual sources (re-writing your local cache)."
   ]
  },
  {
   "cell_type": "markdown",
   "id": "910adc0a-5f13-4a9f-8835-c81d934775fd",
   "metadata": {
    "jp-MarkdownHeadingCollapsed": true
   },
   "source": []
  }
 ],
 "metadata": {
  "kernelspec": {
   "display_name": "Python 3 (ipykernel)",
   "language": "python",
   "name": "python3"
  },
  "language_info": {
   "codemirror_mode": {
    "name": "ipython",
    "version": 3
   },
   "file_extension": ".py",
   "mimetype": "text/x-python",
   "name": "python",
   "nbconvert_exporter": "python",
   "pygments_lexer": "ipython3",
   "version": "3.10.9"
  }
 },
 "nbformat": 4,
 "nbformat_minor": 5
}
