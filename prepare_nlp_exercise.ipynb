{
 "cells": [
  {
   "cell_type": "markdown",
   "id": "bef7408c-13aa-44d8-96f2-1a896a11905f",
   "metadata": {},
   "source": [
    "# Data Preparation Exercises\n",
    "\n",
    "### **The end result of this exercise should be a file named `prepare.py` that defines the requested functions.**\n",
    "\n",
    "###  In this exercise we will be defining some functions to prepare textual data. These functions should apply equally well to both the codeup blog articles and the news articles that were previously acquired."
   ]
  },
  {
   "cell_type": "code",
   "execution_count": 1,
   "id": "3ff74fee-f463-4030-93d9-b7eba037e3d2",
   "metadata": {},
   "outputs": [],
   "source": [
    "# imported libraries \n",
    "import unicodedata\n",
    "import re\n",
    "import json\n",
    "\n",
    "import nltk\n",
    "from nltk.tokenize.toktok import ToktokTokenizer\n",
    "from nltk.corpus import stopwords\n",
    "\n",
    "import pandas as pd\n",
    "\n",
    "# acquire imports\n",
    "import acquire as a"
   ]
  },
  {
   "cell_type": "markdown",
   "id": "51055994-8f0d-4f3d-a7e9-a196633d9c24",
   "metadata": {},
   "source": [
    "  "
   ]
  },
  {
   "cell_type": "markdown",
   "id": "ad019380-5e16-472a-9817-e146949f5cf9",
   "metadata": {},
   "source": [
    "  "
   ]
  },
  {
   "cell_type": "markdown",
   "id": "27410638-88f0-490a-b685-d79836d2e81d",
   "metadata": {},
   "source": [
    "### 1. Define a function named `basic_clean`. It should take in a string and apply some basic text cleaning to it:\n",
    "\n",
    "- Lowercase everything\n",
    "\n",
    "- Normalize unicode characters  \n",
    "  \n",
    "- Replace anything that is not a letter, number, whitespace or a single quote.  "
   ]
  },
  {
   "cell_type": "markdown",
   "id": "516968e7-3148-4da8-b481-d260cbbe72e6",
   "metadata": {},
   "source": [
    "### Using adams's text data"
   ]
  },
  {
   "cell_type": "code",
   "execution_count": 2,
   "id": "8c6b7926-0385-4a80-94c7-d9c819e7122c",
   "metadata": {},
   "outputs": [],
   "source": [
    "data = \"Advanced: String theory is a mathematical framework that proposes to be a theory of quantum gravity, seeking to reconcile general relativity (which describes gravity on a large scale) and quantum mechanics (which describes the behavior of particles at a microscopic level). It introduces the idea that the fundamental building blocks of the universe are not particles, but rather one-dimensional strings of energy. These strings can vibrate at different frequencies, giving rise to different types of particles and forces. String theory also requires the existence of additional dimensions beyond the three spatial dimensions we are familiar with, which are compactified or curled up into tiny sizes.\""
   ]
  },
  {
   "cell_type": "code",
   "execution_count": 3,
   "id": "96f2406a-bc22-4744-8f2b-5bd4bd00ee18",
   "metadata": {},
   "outputs": [],
   "source": [
    "# defined function to accomplish basic clean actions on text data.\n",
    "def basic_clean(text_data):\n",
    "    \n",
    "    text_data = text_data.lower()\n",
    "    \n",
    "    text_data = unicodedata.normalize('NFKD', text_data)\\\n",
    "        .encode('ascii', 'ignore')\\\n",
    "        .decode('utf-8', 'ignore')\n",
    "\n",
    "    text_data = re.sub(r'[^a-z0-9\\s]', '', text_data)\n",
    "\n",
    "    return text_data"
   ]
  },
  {
   "cell_type": "code",
   "execution_count": 4,
   "id": "d615e491-9f82-4880-afaf-e9e9ea309aa6",
   "metadata": {},
   "outputs": [
    {
     "data": {
      "text/plain": [
       "'advanced string theory is a mathematical framework that proposes to be a theory of quantum gravity seeking to reconcile general relativity which describes gravity on a large scale and quantum mechanics which describes the behavior of particles at a microscopic level it introduces the idea that the fundamental building blocks of the universe are not particles but rather onedimensional strings of energy these strings can vibrate at different frequencies giving rise to different types of particles and forces string theory also requires the existence of additional dimensions beyond the three spatial dimensions we are familiar with which are compactified or curled up into tiny sizes'"
      ]
     },
     "execution_count": 4,
     "metadata": {},
     "output_type": "execute_result"
    }
   ],
   "source": [
    "basic_clean(data)"
   ]
  },
  {
   "cell_type": "markdown",
   "id": "42653f0e-b95e-4abf-8d16-58884a7ef9ca",
   "metadata": {},
   "source": [
    "  "
   ]
  },
  {
   "cell_type": "markdown",
   "id": "01f42c24-3deb-450e-a3ea-3d73a6b82b54",
   "metadata": {},
   "source": [
    "  "
   ]
  },
  {
   "cell_type": "markdown",
   "id": "8d34213c-4858-4b47-bcdf-85a04495a78b",
   "metadata": {},
   "source": [
    "  "
   ]
  },
  {
   "cell_type": "markdown",
   "id": "7da60be0-0cb0-44f7-864d-bac815c2f7b8",
   "metadata": {},
   "source": [
    "### 2. Define a function named `tokenize`. It should take in a string and tokenize all the words in the string."
   ]
  },
  {
   "cell_type": "code",
   "execution_count": 50,
   "id": "c4b4fb3d-25be-4e9a-8e8c-ecbcce8bd92f",
   "metadata": {},
   "outputs": [],
   "source": [
    "# defined function to apply tokenizer object onto text dat and return data as str values.\n",
    "def tokenize(text_data):\n",
    "    \n",
    "    tokenizer = nltk.tokenize.ToktokTokenizer()\n",
    "    \n",
    "    text_data = tokenizer.tokenize(text_data, return_str=True)\n",
    "\n",
    "    return text_data"
   ]
  },
  {
   "cell_type": "code",
   "execution_count": 51,
   "id": "760edd62-d259-4383-98e1-4da7a48348ce",
   "metadata": {},
   "outputs": [
    {
     "data": {
      "text/plain": [
       "'Advanced : String theory is a mathematical framework that proposes to be a theory of quantum gravity , seeking to reconcile general relativity ( which describes gravity on a large scale ) and quantum mechanics ( which describes the behavior of particles at a microscopic level ) . It introduces the idea that the fundamental building blocks of the universe are not particles , but rather one-dimensional strings of energy. These strings can vibrate at different frequencies , giving rise to different types of particles and forces. String theory also requires the existence of additional dimensions beyond the three spatial dimensions we are familiar with , which are compactified or curled up into tiny sizes .'"
      ]
     },
     "execution_count": 51,
     "metadata": {},
     "output_type": "execute_result"
    }
   ],
   "source": [
    "tokenize(data)"
   ]
  },
  {
   "cell_type": "markdown",
   "id": "42736d05-3c08-42ae-8f83-b12aa4e22ef9",
   "metadata": {},
   "source": [
    "  "
   ]
  },
  {
   "cell_type": "markdown",
   "id": "e4cdb0ed-7adc-4a9c-a2a8-5dedb5cd9896",
   "metadata": {},
   "source": [
    "  "
   ]
  },
  {
   "cell_type": "markdown",
   "id": "a0518c4b-676f-4b72-9483-95e8a583a192",
   "metadata": {},
   "source": [
    "  "
   ]
  },
  {
   "cell_type": "markdown",
   "id": "c65dbdee-d01b-480b-8e39-18704ff0cc12",
   "metadata": {},
   "source": [
    "### 3. Define a function named `stem`. It should accept some text and return the text after applying stemming to all the words."
   ]
  },
  {
   "cell_type": "code",
   "execution_count": 7,
   "id": "df028081-dc83-4cb5-88b8-e62fffc747b5",
   "metadata": {},
   "outputs": [],
   "source": [
    "# defined function used to stem text in data and joins them with spaces as a string value\n",
    "def stem(text_data):\n",
    "    \n",
    "    ps = nltk.porter.PorterStemmer()\n",
    "\n",
    "    stems = [ps.stem(word) for word in text_data.split()]\n",
    "    \n",
    "    text_data_stemmed = ' '.join(stems)\n",
    "    \n",
    "    return text_data_stemmed "
   ]
  },
  {
   "cell_type": "code",
   "execution_count": 8,
   "id": "e1b01f44-7c4b-45b8-860f-e0ddb828c51e",
   "metadata": {},
   "outputs": [
    {
     "data": {
      "text/plain": [
       "'advanced: string theori is a mathemat framework that propos to be a theori of quantum gravity, seek to reconcil gener rel (which describ graviti on a larg scale) and quantum mechan (which describ the behavior of particl at a microscop level). it introduc the idea that the fundament build block of the univers are not particles, but rather one-dimension string of energy. these string can vibrat at differ frequencies, give rise to differ type of particl and forces. string theori also requir the exist of addit dimens beyond the three spatial dimens we are familiar with, which are compactifi or curl up into tini sizes.'"
      ]
     },
     "execution_count": 8,
     "metadata": {},
     "output_type": "execute_result"
    }
   ],
   "source": [
    "stem(data)"
   ]
  },
  {
   "cell_type": "markdown",
   "id": "5892c117-8536-44db-a86d-e7339699379d",
   "metadata": {},
   "source": [
    "  "
   ]
  },
  {
   "cell_type": "markdown",
   "id": "c2a11d1c-efce-4ce4-9128-4a7710116e7d",
   "metadata": {},
   "source": [
    "  "
   ]
  },
  {
   "cell_type": "markdown",
   "id": "1c8c5a71-10e2-403b-8f47-567fec825730",
   "metadata": {},
   "source": [
    "  "
   ]
  },
  {
   "cell_type": "markdown",
   "id": "ebc9052a-c727-473e-8bf5-3806aa11058d",
   "metadata": {},
   "source": [
    "### 4. Define a function named `lemmatize`. It should accept some text and return the text after applying lemmatization to each word."
   ]
  },
  {
   "cell_type": "code",
   "execution_count": 9,
   "id": "b13c942d-ff79-4f9f-8901-f7332acc8e7a",
   "metadata": {},
   "outputs": [],
   "source": [
    "# defined function to lemmatize text in data and return the text as a string in a sentence with \"lemmas\"\n",
    "def lemmatize(text_data):\n",
    "\n",
    "    wnl = nltk.stem.WordNetLemmatizer()\n",
    "\n",
    "    lemmas = [wnl.lemmatize(word) for word in text_data.split()]\n",
    "    \n",
    "    text_data_lemmatized = ' '.join(lemmas)\n",
    "\n",
    "    return text_data_lemmatized"
   ]
  },
  {
   "cell_type": "code",
   "execution_count": 10,
   "id": "03c91c78-46a5-4501-82ea-c8d78901d016",
   "metadata": {},
   "outputs": [
    {
     "data": {
      "text/plain": [
       "'Advanced: String theory is a mathematical framework that proposes to be a theory of quantum gravity, seeking to reconcile general relativity (which describes gravity on a large scale) and quantum mechanic (which describes the behavior of particle at a microscopic level). It introduces the idea that the fundamental building block of the universe are not particles, but rather one-dimensional string of energy. These string can vibrate at different frequencies, giving rise to different type of particle and forces. String theory also requires the existence of additional dimension beyond the three spatial dimension we are familiar with, which are compactified or curled up into tiny sizes.'"
      ]
     },
     "execution_count": 10,
     "metadata": {},
     "output_type": "execute_result"
    }
   ],
   "source": [
    "lemmatize(data)"
   ]
  },
  {
   "cell_type": "markdown",
   "id": "21d352cb-0775-4e53-aa34-42e18f1a5133",
   "metadata": {},
   "source": [
    "  "
   ]
  },
  {
   "cell_type": "markdown",
   "id": "a5751b47-f717-4f20-8413-6831a1175044",
   "metadata": {},
   "source": [
    "  "
   ]
  },
  {
   "cell_type": "markdown",
   "id": "0745b297-d484-47c0-a92b-2f402fd6695b",
   "metadata": {},
   "source": [
    "  "
   ]
  },
  {
   "cell_type": "markdown",
   "id": "36f1c4b4-5379-4c4e-8953-464cb3662aa6",
   "metadata": {},
   "source": [
    "### 5. Define a function named `remove_stopwords`. It should accept some text and return the text after removing all the stopwords.\n",
    "\n",
    "#### **This function should define two optional parameters, extra_words and exclude_words. These parameters should define any additional stop words to include, and any words that we don't want to remove.**"
   ]
  },
  {
   "cell_type": "code",
   "execution_count": 52,
   "id": "8f5d92aa-10ad-43dc-8fdd-5e2b5947a282",
   "metadata": {},
   "outputs": [],
   "source": [
    "def remove_stopwords(text_data, extra_words=None, exclude_words=None):\n",
    "    # stopwords list\n",
    "    stopwords_list = stopwords.words('english')\n",
    "\n",
    "    # If extra_words are provided, add them to the stopwords_list\n",
    "    if extra_words:\n",
    "        stopwords_list.extend(extra_words)\n",
    "\n",
    "    # If exclude_words are provided, remove them from the stopwords_list\n",
    "    if exclude_words:\n",
    "        stopwords_list = [word for word in stopwords_list if word not in exclude_words]\n",
    "\n",
    "    # Tokenize the text data and remove stopwords\n",
    "    words = [word for word in text_data.split() if word not in stopwords_list]\n",
    "\n",
    "    # Join the words back \n",
    "    new_text_data = ' '.join(words)\n",
    "\n",
    "    return new_text_data    "
   ]
  },
  {
   "cell_type": "code",
   "execution_count": 49,
   "id": "67745b34-9f1e-4a1a-9ced-dd0d9730fb02",
   "metadata": {},
   "outputs": [
    {
     "name": "stdout",
     "output_type": "stream",
     "text": [
      "Advanced: String theory mathematical proposes theory quantum gravity, seeking reconcile general relativity (which describes gravity large scale) quantum mechanics (which describes behavior particles microscopic level). It introduces idea fundamental building blocks universe particles, rather one-dimensional strings energy. These strings can vibrate different frequencies, giving rise different types particles forces. String theory also requires existence additional dimensions beyond three spatial dimensions familiar with, compactified curled tiny sizes.\n"
     ]
    }
   ],
   "source": [
    "# Setting values for the additional parameters.\n",
    "extra_words = [\"framework\", \"with\"]\n",
    "exclude_words = [\"can\"]\n",
    "\n",
    "result = remove_stopwords(data, extra_words, exclude_words)\n",
    "print(result)"
   ]
  },
  {
   "cell_type": "markdown",
   "id": "f5d0feff-e94f-4047-89a9-4a819357cca4",
   "metadata": {},
   "source": [
    "  "
   ]
  },
  {
   "cell_type": "markdown",
   "id": "e73fbf5f-02a2-4e9b-85c5-b8e43f9915d9",
   "metadata": {},
   "source": [
    "  "
   ]
  },
  {
   "cell_type": "markdown",
   "id": "e10d4650-e7cb-41df-a7bc-c202a9c5aafe",
   "metadata": {},
   "source": [
    "  "
   ]
  },
  {
   "cell_type": "markdown",
   "id": "9c8b20e3-4776-498c-aae9-81c0b8a58a09",
   "metadata": {},
   "source": [
    "### 6. Use your data from the acquire to produce a dataframe of the news articles. Name the dataframe `news_df`."
   ]
  },
  {
   "cell_type": "code",
   "execution_count": 19,
   "id": "ffcffbdb-7079-4bef-afad-d0629e872831",
   "metadata": {},
   "outputs": [
    {
     "data": {
      "text/html": [
       "<div>\n",
       "<style scoped>\n",
       "    .dataframe tbody tr th:only-of-type {\n",
       "        vertical-align: middle;\n",
       "    }\n",
       "\n",
       "    .dataframe tbody tr th {\n",
       "        vertical-align: top;\n",
       "    }\n",
       "\n",
       "    .dataframe thead th {\n",
       "        text-align: right;\n",
       "    }\n",
       "</style>\n",
       "<table border=\"1\" class=\"dataframe\">\n",
       "  <thead>\n",
       "    <tr style=\"text-align: right;\">\n",
       "      <th></th>\n",
       "      <th>title</th>\n",
       "      <th>content</th>\n",
       "      <th>category</th>\n",
       "    </tr>\n",
       "  </thead>\n",
       "  <tbody>\n",
       "    <tr>\n",
       "      <th>0</th>\n",
       "      <td>What is the Nithari serial killings case?     ...</td>\n",
       "      <td>The Nithari killings came to light in December...</td>\n",
       "      <td>national</td>\n",
       "    </tr>\n",
       "    <tr>\n",
       "      <th>1</th>\n",
       "      <td>100-140 soldiers died by suicide every year si...</td>\n",
       "      <td>After 21-year-old Agniveer Amritpal Singh died...</td>\n",
       "      <td>national</td>\n",
       "    </tr>\n",
       "    <tr>\n",
       "      <th>2</th>\n",
       "      <td>Thank India for its shoulder-to-shoulder suppo...</td>\n",
       "      <td>Israeli Minister of Diaspora Affairs, Amichai ...</td>\n",
       "      <td>national</td>\n",
       "    </tr>\n",
       "    <tr>\n",
       "      <th>3</th>\n",
       "      <td>Why are single &amp; unmarried women excluded from...</td>\n",
       "      <td>Delhi HC asked the Centre to explain why singl...</td>\n",
       "      <td>national</td>\n",
       "    </tr>\n",
       "    <tr>\n",
       "      <th>4</th>\n",
       "      <td>Signs of possible cyclonic storm in Arabian Sea</td>\n",
       "      <td>Meteorologists have picked up signs of a possi...</td>\n",
       "      <td>national</td>\n",
       "    </tr>\n",
       "    <tr>\n",
       "      <th>5</th>\n",
       "      <td>ISRO chief meets Tamil Nadu CM, gifts him Chan...</td>\n",
       "      <td>ISRO Chairman S Somanath met with Tamil Nadu C...</td>\n",
       "      <td>national</td>\n",
       "    </tr>\n",
       "    <tr>\n",
       "      <th>6</th>\n",
       "      <td>Indiscriminate bombing in Gaza amounts to geno...</td>\n",
       "      <td>Around 15 prominent opposition leaders, includ...</td>\n",
       "      <td>national</td>\n",
       "    </tr>\n",
       "    <tr>\n",
       "      <th>7</th>\n",
       "      <td>Portion of flyover on Mumbai-Goa 4-lane highwa...</td>\n",
       "      <td>A portion of an under-construction flyover on ...</td>\n",
       "      <td>national</td>\n",
       "    </tr>\n",
       "    <tr>\n",
       "      <th>8</th>\n",
       "      <td>Ambulance carrying live heart covers 14 kms in...</td>\n",
       "      <td>The Bengaluru Police on Sunday facilitated a g...</td>\n",
       "      <td>national</td>\n",
       "    </tr>\n",
       "    <tr>\n",
       "      <th>9</th>\n",
       "      <td>Supreme Court verdict on same-sex marriage lik...</td>\n",
       "      <td>The Supreme Court on Tuesday will likely deliv...</td>\n",
       "      <td>national</td>\n",
       "    </tr>\n",
       "  </tbody>\n",
       "</table>\n",
       "</div>"
      ],
      "text/plain": [
       "                                               title  \\\n",
       "0  What is the Nithari serial killings case?     ...   \n",
       "1  100-140 soldiers died by suicide every year si...   \n",
       "2  Thank India for its shoulder-to-shoulder suppo...   \n",
       "3  Why are single & unmarried women excluded from...   \n",
       "4    Signs of possible cyclonic storm in Arabian Sea   \n",
       "5  ISRO chief meets Tamil Nadu CM, gifts him Chan...   \n",
       "6  Indiscriminate bombing in Gaza amounts to geno...   \n",
       "7  Portion of flyover on Mumbai-Goa 4-lane highwa...   \n",
       "8  Ambulance carrying live heart covers 14 kms in...   \n",
       "9  Supreme Court verdict on same-sex marriage lik...   \n",
       "\n",
       "                                             content  category  \n",
       "0  The Nithari killings came to light in December...  national  \n",
       "1  After 21-year-old Agniveer Amritpal Singh died...  national  \n",
       "2  Israeli Minister of Diaspora Affairs, Amichai ...  national  \n",
       "3  Delhi HC asked the Centre to explain why singl...  national  \n",
       "4  Meteorologists have picked up signs of a possi...  national  \n",
       "5  ISRO Chairman S Somanath met with Tamil Nadu C...  national  \n",
       "6  Around 15 prominent opposition leaders, includ...  national  \n",
       "7  A portion of an under-construction flyover on ...  national  \n",
       "8  The Bengaluru Police on Sunday facilitated a g...  national  \n",
       "9  The Supreme Court on Tuesday will likely deliv...  national  "
      ]
     },
     "execution_count": 19,
     "metadata": {},
     "output_type": "execute_result"
    }
   ],
   "source": [
    "news_df = a.get_news_articles_data()\n",
    "news_df"
   ]
  },
  {
   "cell_type": "markdown",
   "id": "b58296a2-4127-481c-87c3-bfb01978843f",
   "metadata": {},
   "source": [
    "  "
   ]
  },
  {
   "cell_type": "markdown",
   "id": "9c013eca-9044-4fa8-ace6-537a9b22a2d9",
   "metadata": {},
   "source": [
    "  "
   ]
  },
  {
   "cell_type": "markdown",
   "id": "c9729a10-beba-4a84-971c-62d14ad92442",
   "metadata": {},
   "source": [
    "  "
   ]
  },
  {
   "cell_type": "markdown",
   "id": "6f2eb60d-45f7-40c0-a0a4-891e616720f5",
   "metadata": {},
   "source": [
    "### 7. Make another dataframe for the Codeup blog posts. Name the dataframe `codeup_df`."
   ]
  },
  {
   "cell_type": "code",
   "execution_count": 20,
   "id": "6adab869-43d4-4c90-ad24-b41fdcdde67e",
   "metadata": {},
   "outputs": [
    {
     "data": {
      "text/html": [
       "<div>\n",
       "<style scoped>\n",
       "    .dataframe tbody tr th:only-of-type {\n",
       "        vertical-align: middle;\n",
       "    }\n",
       "\n",
       "    .dataframe tbody tr th {\n",
       "        vertical-align: top;\n",
       "    }\n",
       "\n",
       "    .dataframe thead th {\n",
       "        text-align: right;\n",
       "    }\n",
       "</style>\n",
       "<table border=\"1\" class=\"dataframe\">\n",
       "  <thead>\n",
       "    <tr style=\"text-align: right;\">\n",
       "      <th></th>\n",
       "      <th>title</th>\n",
       "      <th>content</th>\n",
       "    </tr>\n",
       "  </thead>\n",
       "  <tbody>\n",
       "    <tr>\n",
       "      <th>0</th>\n",
       "      <td>Spotlight on APIDA Voices: Celebrating Heritag...</td>\n",
       "      <td>May is traditionally known as Asian American a...</td>\n",
       "    </tr>\n",
       "    <tr>\n",
       "      <th>1</th>\n",
       "      <td>Women in tech: Panelist Spotlight – Magdalena ...</td>\n",
       "      <td>Women in tech: Panelist Spotlight – Magdalena ...</td>\n",
       "    </tr>\n",
       "    <tr>\n",
       "      <th>2</th>\n",
       "      <td>Women in tech: Panelist Spotlight – Rachel Rob...</td>\n",
       "      <td>Women in tech: Panelist Spotlight – Rachel Rob...</td>\n",
       "    </tr>\n",
       "    <tr>\n",
       "      <th>3</th>\n",
       "      <td>Women in Tech: Panelist Spotlight – Sarah Mellor</td>\n",
       "      <td>Women in tech: Panelist Spotlight – Sarah Mell...</td>\n",
       "    </tr>\n",
       "    <tr>\n",
       "      <th>4</th>\n",
       "      <td>Women in Tech: Panelist Spotlight – Madeleine ...</td>\n",
       "      <td>Women in tech: Panelist Spotlight – Madeleine ...</td>\n",
       "    </tr>\n",
       "    <tr>\n",
       "      <th>5</th>\n",
       "      <td>Black Excellence in Tech: Panelist Spotlight –...</td>\n",
       "      <td>Black excellence in tech: Panelist Spotlight –...</td>\n",
       "    </tr>\n",
       "  </tbody>\n",
       "</table>\n",
       "</div>"
      ],
      "text/plain": [
       "                                               title  \\\n",
       "0  Spotlight on APIDA Voices: Celebrating Heritag...   \n",
       "1  Women in tech: Panelist Spotlight – Magdalena ...   \n",
       "2  Women in tech: Panelist Spotlight – Rachel Rob...   \n",
       "3   Women in Tech: Panelist Spotlight – Sarah Mellor   \n",
       "4  Women in Tech: Panelist Spotlight – Madeleine ...   \n",
       "5  Black Excellence in Tech: Panelist Spotlight –...   \n",
       "\n",
       "                                             content  \n",
       "0  May is traditionally known as Asian American a...  \n",
       "1  Women in tech: Panelist Spotlight – Magdalena ...  \n",
       "2  Women in tech: Panelist Spotlight – Rachel Rob...  \n",
       "3  Women in tech: Panelist Spotlight – Sarah Mell...  \n",
       "4  Women in tech: Panelist Spotlight – Madeleine ...  \n",
       "5  Black excellence in tech: Panelist Spotlight –...  "
      ]
     },
     "execution_count": 20,
     "metadata": {},
     "output_type": "execute_result"
    }
   ],
   "source": [
    "codeup_df = a.get_blog_articles_data()\n",
    "codeup_df"
   ]
  },
  {
   "cell_type": "markdown",
   "id": "10d58fd0-578f-4f65-95c2-6c5e54e8b404",
   "metadata": {},
   "source": [
    "  "
   ]
  },
  {
   "cell_type": "markdown",
   "id": "06176f30-2530-41a2-9292-1d8559e4e0aa",
   "metadata": {},
   "source": [
    "  "
   ]
  },
  {
   "cell_type": "markdown",
   "id": "1641d7ba-a19f-4055-a3be-973deaea7398",
   "metadata": {},
   "source": [
    "  "
   ]
  },
  {
   "cell_type": "markdown",
   "id": "c3285391-5b7f-4ae1-a594-b0ca1b199b09",
   "metadata": {},
   "source": [
    "### 8. For each dataframe, produce the following columns:\n",
    "\n",
    "- `title` to hold the title\n",
    "  \n",
    "- `original` to hold the original article/post content\n",
    "  \n",
    "- `clean` to hold the normalized and tokenized original with the stopwords removed.\n",
    "  \n",
    "- `stemmed` to hold the stemmed version of the cleaned data.\n",
    "  \n",
    "- `lemmatized` to hold the lemmatized version of the cleaned data.\n",
    "  \n",
    "\n",
    "#### Ask yourself:  \n",
    "\n",
    "- If your corpus is 493KB, would you prefer to use stemmed or lemmatized text?\n",
    "\n",
    "        - lemm\n",
    "  \n",
    "- If your corpus is 25MB, would you prefer to use stemmed or lemmatized text?\n",
    "  \n",
    "        - lemm\n",
    "  \n",
    "- If your corpus is 200TB of text and you're charged by the megabyte for your hosted computational resources, would you prefer to use stemmed or lemmatized text?\n",
    "\n",
    "        - stem"
   ]
  },
  {
   "cell_type": "markdown",
   "id": "ce065979-2d05-46c7-ad69-1557446f713a",
   "metadata": {},
   "source": [
    "## News Dataframe"
   ]
  },
  {
   "cell_type": "code",
   "execution_count": 24,
   "id": "6895cc86-73dd-4e86-a34a-aa24ccba40ea",
   "metadata": {},
   "outputs": [],
   "source": [
    "# news dataframe columns with applied functions.\n",
    "news_df['title'] = news_df['title']  # Keep the title column as is\n",
    "\n",
    "# Clean the 'content' column\n",
    "news_df['clean'] = news_df['content'].apply(basic_clean)\n",
    "\n",
    "# Tokenize the cleaned text\n",
    "news_df['tokenized'] = news_df['clean'].apply(tokenize)\n",
    "\n",
    "# Remove stopwords from tokenized text\n",
    "news_df['clean'] = news_df['tokenized'].apply(remove_stopwords)\n",
    "\n",
    "# Stem the cleaned text\n",
    "news_df['stemmed'] = news_df['clean'].apply(stem)\n",
    "\n",
    "# Lemmatize the cleaned text\n",
    "news_df['lemmatized'] = news_df['clean'].apply(lemmatize)"
   ]
  },
  {
   "cell_type": "code",
   "execution_count": 25,
   "id": "b0f9dd82-6a94-4a7f-ac56-4c0187dc691f",
   "metadata": {},
   "outputs": [
    {
     "data": {
      "text/html": [
       "<div>\n",
       "<style scoped>\n",
       "    .dataframe tbody tr th:only-of-type {\n",
       "        vertical-align: middle;\n",
       "    }\n",
       "\n",
       "    .dataframe tbody tr th {\n",
       "        vertical-align: top;\n",
       "    }\n",
       "\n",
       "    .dataframe thead th {\n",
       "        text-align: right;\n",
       "    }\n",
       "</style>\n",
       "<table border=\"1\" class=\"dataframe\">\n",
       "  <thead>\n",
       "    <tr style=\"text-align: right;\">\n",
       "      <th></th>\n",
       "      <th>title</th>\n",
       "      <th>content</th>\n",
       "      <th>category</th>\n",
       "      <th>clean</th>\n",
       "      <th>tokenized</th>\n",
       "      <th>stemmed</th>\n",
       "      <th>lemmatized</th>\n",
       "    </tr>\n",
       "  </thead>\n",
       "  <tbody>\n",
       "    <tr>\n",
       "      <th>0</th>\n",
       "      <td>What is the Nithari serial killings case?     ...</td>\n",
       "      <td>The Nithari killings came to light in December...</td>\n",
       "      <td>national</td>\n",
       "      <td>Advanced: String theory mathematical framework...</td>\n",
       "      <td>the nithari killings came to light in december...</td>\n",
       "      <td>advanced: string theori mathemat framework pro...</td>\n",
       "      <td>Advanced: String theory mathematical framework...</td>\n",
       "    </tr>\n",
       "    <tr>\n",
       "      <th>1</th>\n",
       "      <td>100-140 soldiers died by suicide every year si...</td>\n",
       "      <td>After 21-year-old Agniveer Amritpal Singh died...</td>\n",
       "      <td>national</td>\n",
       "      <td>Advanced: String theory mathematical framework...</td>\n",
       "      <td>after 21yearold agniveer amritpal singh died o...</td>\n",
       "      <td>advanced: string theori mathemat framework pro...</td>\n",
       "      <td>Advanced: String theory mathematical framework...</td>\n",
       "    </tr>\n",
       "    <tr>\n",
       "      <th>2</th>\n",
       "      <td>Thank India for its shoulder-to-shoulder suppo...</td>\n",
       "      <td>Israeli Minister of Diaspora Affairs, Amichai ...</td>\n",
       "      <td>national</td>\n",
       "      <td>Advanced: String theory mathematical framework...</td>\n",
       "      <td>israeli minister of diaspora affairs amichai c...</td>\n",
       "      <td>advanced: string theori mathemat framework pro...</td>\n",
       "      <td>Advanced: String theory mathematical framework...</td>\n",
       "    </tr>\n",
       "    <tr>\n",
       "      <th>3</th>\n",
       "      <td>Why are single &amp; unmarried women excluded from...</td>\n",
       "      <td>Delhi HC asked the Centre to explain why singl...</td>\n",
       "      <td>national</td>\n",
       "      <td>Advanced: String theory mathematical framework...</td>\n",
       "      <td>delhi hc asked the centre to explain why singl...</td>\n",
       "      <td>advanced: string theori mathemat framework pro...</td>\n",
       "      <td>Advanced: String theory mathematical framework...</td>\n",
       "    </tr>\n",
       "    <tr>\n",
       "      <th>4</th>\n",
       "      <td>Signs of possible cyclonic storm in Arabian Sea</td>\n",
       "      <td>Meteorologists have picked up signs of a possi...</td>\n",
       "      <td>national</td>\n",
       "      <td>Advanced: String theory mathematical framework...</td>\n",
       "      <td>meteorologists have picked up signs of a possi...</td>\n",
       "      <td>advanced: string theori mathemat framework pro...</td>\n",
       "      <td>Advanced: String theory mathematical framework...</td>\n",
       "    </tr>\n",
       "    <tr>\n",
       "      <th>5</th>\n",
       "      <td>ISRO chief meets Tamil Nadu CM, gifts him Chan...</td>\n",
       "      <td>ISRO Chairman S Somanath met with Tamil Nadu C...</td>\n",
       "      <td>national</td>\n",
       "      <td>Advanced: String theory mathematical framework...</td>\n",
       "      <td>isro chairman s somanath met with tamil nadu c...</td>\n",
       "      <td>advanced: string theori mathemat framework pro...</td>\n",
       "      <td>Advanced: String theory mathematical framework...</td>\n",
       "    </tr>\n",
       "    <tr>\n",
       "      <th>6</th>\n",
       "      <td>Indiscriminate bombing in Gaza amounts to geno...</td>\n",
       "      <td>Around 15 prominent opposition leaders, includ...</td>\n",
       "      <td>national</td>\n",
       "      <td>Advanced: String theory mathematical framework...</td>\n",
       "      <td>around 15 prominent opposition leaders includi...</td>\n",
       "      <td>advanced: string theori mathemat framework pro...</td>\n",
       "      <td>Advanced: String theory mathematical framework...</td>\n",
       "    </tr>\n",
       "    <tr>\n",
       "      <th>7</th>\n",
       "      <td>Portion of flyover on Mumbai-Goa 4-lane highwa...</td>\n",
       "      <td>A portion of an under-construction flyover on ...</td>\n",
       "      <td>national</td>\n",
       "      <td>Advanced: String theory mathematical framework...</td>\n",
       "      <td>a portion of an underconstruction flyover on t...</td>\n",
       "      <td>advanced: string theori mathemat framework pro...</td>\n",
       "      <td>Advanced: String theory mathematical framework...</td>\n",
       "    </tr>\n",
       "    <tr>\n",
       "      <th>8</th>\n",
       "      <td>Ambulance carrying live heart covers 14 kms in...</td>\n",
       "      <td>The Bengaluru Police on Sunday facilitated a g...</td>\n",
       "      <td>national</td>\n",
       "      <td>Advanced: String theory mathematical framework...</td>\n",
       "      <td>the bengaluru police on sunday facilitated a g...</td>\n",
       "      <td>advanced: string theori mathemat framework pro...</td>\n",
       "      <td>Advanced: String theory mathematical framework...</td>\n",
       "    </tr>\n",
       "    <tr>\n",
       "      <th>9</th>\n",
       "      <td>Supreme Court verdict on same-sex marriage lik...</td>\n",
       "      <td>The Supreme Court on Tuesday will likely deliv...</td>\n",
       "      <td>national</td>\n",
       "      <td>Advanced: String theory mathematical framework...</td>\n",
       "      <td>the supreme court on tuesday will likely deliv...</td>\n",
       "      <td>advanced: string theori mathemat framework pro...</td>\n",
       "      <td>Advanced: String theory mathematical framework...</td>\n",
       "    </tr>\n",
       "  </tbody>\n",
       "</table>\n",
       "</div>"
      ],
      "text/plain": [
       "                                               title  \\\n",
       "0  What is the Nithari serial killings case?     ...   \n",
       "1  100-140 soldiers died by suicide every year si...   \n",
       "2  Thank India for its shoulder-to-shoulder suppo...   \n",
       "3  Why are single & unmarried women excluded from...   \n",
       "4    Signs of possible cyclonic storm in Arabian Sea   \n",
       "5  ISRO chief meets Tamil Nadu CM, gifts him Chan...   \n",
       "6  Indiscriminate bombing in Gaza amounts to geno...   \n",
       "7  Portion of flyover on Mumbai-Goa 4-lane highwa...   \n",
       "8  Ambulance carrying live heart covers 14 kms in...   \n",
       "9  Supreme Court verdict on same-sex marriage lik...   \n",
       "\n",
       "                                             content  category  \\\n",
       "0  The Nithari killings came to light in December...  national   \n",
       "1  After 21-year-old Agniveer Amritpal Singh died...  national   \n",
       "2  Israeli Minister of Diaspora Affairs, Amichai ...  national   \n",
       "3  Delhi HC asked the Centre to explain why singl...  national   \n",
       "4  Meteorologists have picked up signs of a possi...  national   \n",
       "5  ISRO Chairman S Somanath met with Tamil Nadu C...  national   \n",
       "6  Around 15 prominent opposition leaders, includ...  national   \n",
       "7  A portion of an under-construction flyover on ...  national   \n",
       "8  The Bengaluru Police on Sunday facilitated a g...  national   \n",
       "9  The Supreme Court on Tuesday will likely deliv...  national   \n",
       "\n",
       "                                               clean  \\\n",
       "0  Advanced: String theory mathematical framework...   \n",
       "1  Advanced: String theory mathematical framework...   \n",
       "2  Advanced: String theory mathematical framework...   \n",
       "3  Advanced: String theory mathematical framework...   \n",
       "4  Advanced: String theory mathematical framework...   \n",
       "5  Advanced: String theory mathematical framework...   \n",
       "6  Advanced: String theory mathematical framework...   \n",
       "7  Advanced: String theory mathematical framework...   \n",
       "8  Advanced: String theory mathematical framework...   \n",
       "9  Advanced: String theory mathematical framework...   \n",
       "\n",
       "                                           tokenized  \\\n",
       "0  the nithari killings came to light in december...   \n",
       "1  after 21yearold agniveer amritpal singh died o...   \n",
       "2  israeli minister of diaspora affairs amichai c...   \n",
       "3  delhi hc asked the centre to explain why singl...   \n",
       "4  meteorologists have picked up signs of a possi...   \n",
       "5  isro chairman s somanath met with tamil nadu c...   \n",
       "6  around 15 prominent opposition leaders includi...   \n",
       "7  a portion of an underconstruction flyover on t...   \n",
       "8  the bengaluru police on sunday facilitated a g...   \n",
       "9  the supreme court on tuesday will likely deliv...   \n",
       "\n",
       "                                             stemmed  \\\n",
       "0  advanced: string theori mathemat framework pro...   \n",
       "1  advanced: string theori mathemat framework pro...   \n",
       "2  advanced: string theori mathemat framework pro...   \n",
       "3  advanced: string theori mathemat framework pro...   \n",
       "4  advanced: string theori mathemat framework pro...   \n",
       "5  advanced: string theori mathemat framework pro...   \n",
       "6  advanced: string theori mathemat framework pro...   \n",
       "7  advanced: string theori mathemat framework pro...   \n",
       "8  advanced: string theori mathemat framework pro...   \n",
       "9  advanced: string theori mathemat framework pro...   \n",
       "\n",
       "                                          lemmatized  \n",
       "0  Advanced: String theory mathematical framework...  \n",
       "1  Advanced: String theory mathematical framework...  \n",
       "2  Advanced: String theory mathematical framework...  \n",
       "3  Advanced: String theory mathematical framework...  \n",
       "4  Advanced: String theory mathematical framework...  \n",
       "5  Advanced: String theory mathematical framework...  \n",
       "6  Advanced: String theory mathematical framework...  \n",
       "7  Advanced: String theory mathematical framework...  \n",
       "8  Advanced: String theory mathematical framework...  \n",
       "9  Advanced: String theory mathematical framework...  "
      ]
     },
     "execution_count": 25,
     "metadata": {},
     "output_type": "execute_result"
    }
   ],
   "source": [
    "news_df"
   ]
  },
  {
   "cell_type": "markdown",
   "id": "a3c579bb-bc90-47ca-b0f2-696db5c578b0",
   "metadata": {},
   "source": [
    "  "
   ]
  },
  {
   "cell_type": "markdown",
   "id": "1892d9b9-19e4-49c5-9bab-209c45592233",
   "metadata": {},
   "source": [
    "  "
   ]
  },
  {
   "cell_type": "markdown",
   "id": "e7530755-c08c-4f46-ac05-277d44fe8be1",
   "metadata": {},
   "source": [
    "  "
   ]
  },
  {
   "cell_type": "markdown",
   "id": "250f6838-0687-491f-a065-f6cf77136cde",
   "metadata": {},
   "source": [
    "  "
   ]
  },
  {
   "cell_type": "markdown",
   "id": "9baa39ca-563f-4898-b5ec-2f1d6ac8c3c4",
   "metadata": {},
   "source": [
    "  "
   ]
  },
  {
   "cell_type": "markdown",
   "id": "36886fee-98db-4d2c-8534-9e2decddc16f",
   "metadata": {},
   "source": [
    "## Codeup Dataframe"
   ]
  },
  {
   "cell_type": "code",
   "execution_count": 26,
   "id": "fa66681c-bcc7-4677-a80e-dd330cfe8524",
   "metadata": {},
   "outputs": [],
   "source": [
    "# news dataframe columns with applied functions.\n",
    "codeup_df['title'] = codeup_df['title']  # Keep the title column as is\n",
    "\n",
    "# Clean the 'content' column\n",
    "codeup_df['clean'] = codeup_df['content'].apply(basic_clean)\n",
    "\n",
    "# Tokenize the cleaned text\n",
    "codeup_df['tokenized'] = codeup_df['clean'].apply(tokenize)\n",
    "\n",
    "# Remove stopwords from tokenized text\n",
    "codeup_df['clean'] = codeup_df['tokenized'].apply(remove_stopwords)\n",
    "\n",
    "# Stem the cleaned text\n",
    "codeup_df['stemmed'] = codeup_df['clean'].apply(stem)\n",
    "\n",
    "# Lemmatize the cleaned text\n",
    "codeup_df['lemmatized'] = codeup_df['clean'].apply(lemmatize)"
   ]
  },
  {
   "cell_type": "code",
   "execution_count": 27,
   "id": "35796a7f-cfe7-431e-9423-705bee8a8bcc",
   "metadata": {},
   "outputs": [
    {
     "data": {
      "text/html": [
       "<div>\n",
       "<style scoped>\n",
       "    .dataframe tbody tr th:only-of-type {\n",
       "        vertical-align: middle;\n",
       "    }\n",
       "\n",
       "    .dataframe tbody tr th {\n",
       "        vertical-align: top;\n",
       "    }\n",
       "\n",
       "    .dataframe thead th {\n",
       "        text-align: right;\n",
       "    }\n",
       "</style>\n",
       "<table border=\"1\" class=\"dataframe\">\n",
       "  <thead>\n",
       "    <tr style=\"text-align: right;\">\n",
       "      <th></th>\n",
       "      <th>title</th>\n",
       "      <th>content</th>\n",
       "      <th>clean</th>\n",
       "      <th>tokenized</th>\n",
       "      <th>stemmed</th>\n",
       "      <th>lemmatized</th>\n",
       "    </tr>\n",
       "  </thead>\n",
       "  <tbody>\n",
       "    <tr>\n",
       "      <th>0</th>\n",
       "      <td>Spotlight on APIDA Voices: Celebrating Heritag...</td>\n",
       "      <td>May is traditionally known as Asian American a...</td>\n",
       "      <td>Advanced: String theory mathematical framework...</td>\n",
       "      <td>may is traditionally known as asian american a...</td>\n",
       "      <td>advanced: string theori mathemat framework pro...</td>\n",
       "      <td>Advanced: String theory mathematical framework...</td>\n",
       "    </tr>\n",
       "    <tr>\n",
       "      <th>1</th>\n",
       "      <td>Women in tech: Panelist Spotlight – Magdalena ...</td>\n",
       "      <td>Women in tech: Panelist Spotlight – Magdalena ...</td>\n",
       "      <td>Advanced: String theory mathematical framework...</td>\n",
       "      <td>women in tech panelist spotlight  magdalena ra...</td>\n",
       "      <td>advanced: string theori mathemat framework pro...</td>\n",
       "      <td>Advanced: String theory mathematical framework...</td>\n",
       "    </tr>\n",
       "    <tr>\n",
       "      <th>2</th>\n",
       "      <td>Women in tech: Panelist Spotlight – Rachel Rob...</td>\n",
       "      <td>Women in tech: Panelist Spotlight – Rachel Rob...</td>\n",
       "      <td>Advanced: String theory mathematical framework...</td>\n",
       "      <td>women in tech panelist spotlight  rachel robbi...</td>\n",
       "      <td>advanced: string theori mathemat framework pro...</td>\n",
       "      <td>Advanced: String theory mathematical framework...</td>\n",
       "    </tr>\n",
       "    <tr>\n",
       "      <th>3</th>\n",
       "      <td>Women in Tech: Panelist Spotlight – Sarah Mellor</td>\n",
       "      <td>Women in tech: Panelist Spotlight – Sarah Mell...</td>\n",
       "      <td>Advanced: String theory mathematical framework...</td>\n",
       "      <td>women in tech panelist spotlight  sarah mellor...</td>\n",
       "      <td>advanced: string theori mathemat framework pro...</td>\n",
       "      <td>Advanced: String theory mathematical framework...</td>\n",
       "    </tr>\n",
       "    <tr>\n",
       "      <th>4</th>\n",
       "      <td>Women in Tech: Panelist Spotlight – Madeleine ...</td>\n",
       "      <td>Women in tech: Panelist Spotlight – Madeleine ...</td>\n",
       "      <td>Advanced: String theory mathematical framework...</td>\n",
       "      <td>women in tech panelist spotlight  madeleine ca...</td>\n",
       "      <td>advanced: string theori mathemat framework pro...</td>\n",
       "      <td>Advanced: String theory mathematical framework...</td>\n",
       "    </tr>\n",
       "    <tr>\n",
       "      <th>5</th>\n",
       "      <td>Black Excellence in Tech: Panelist Spotlight –...</td>\n",
       "      <td>Black excellence in tech: Panelist Spotlight –...</td>\n",
       "      <td>Advanced: String theory mathematical framework...</td>\n",
       "      <td>black excellence in tech panelist spotlight  w...</td>\n",
       "      <td>advanced: string theori mathemat framework pro...</td>\n",
       "      <td>Advanced: String theory mathematical framework...</td>\n",
       "    </tr>\n",
       "  </tbody>\n",
       "</table>\n",
       "</div>"
      ],
      "text/plain": [
       "                                               title  \\\n",
       "0  Spotlight on APIDA Voices: Celebrating Heritag...   \n",
       "1  Women in tech: Panelist Spotlight – Magdalena ...   \n",
       "2  Women in tech: Panelist Spotlight – Rachel Rob...   \n",
       "3   Women in Tech: Panelist Spotlight – Sarah Mellor   \n",
       "4  Women in Tech: Panelist Spotlight – Madeleine ...   \n",
       "5  Black Excellence in Tech: Panelist Spotlight –...   \n",
       "\n",
       "                                             content  \\\n",
       "0  May is traditionally known as Asian American a...   \n",
       "1  Women in tech: Panelist Spotlight – Magdalena ...   \n",
       "2  Women in tech: Panelist Spotlight – Rachel Rob...   \n",
       "3  Women in tech: Panelist Spotlight – Sarah Mell...   \n",
       "4  Women in tech: Panelist Spotlight – Madeleine ...   \n",
       "5  Black excellence in tech: Panelist Spotlight –...   \n",
       "\n",
       "                                               clean  \\\n",
       "0  Advanced: String theory mathematical framework...   \n",
       "1  Advanced: String theory mathematical framework...   \n",
       "2  Advanced: String theory mathematical framework...   \n",
       "3  Advanced: String theory mathematical framework...   \n",
       "4  Advanced: String theory mathematical framework...   \n",
       "5  Advanced: String theory mathematical framework...   \n",
       "\n",
       "                                           tokenized  \\\n",
       "0  may is traditionally known as asian american a...   \n",
       "1  women in tech panelist spotlight  magdalena ra...   \n",
       "2  women in tech panelist spotlight  rachel robbi...   \n",
       "3  women in tech panelist spotlight  sarah mellor...   \n",
       "4  women in tech panelist spotlight  madeleine ca...   \n",
       "5  black excellence in tech panelist spotlight  w...   \n",
       "\n",
       "                                             stemmed  \\\n",
       "0  advanced: string theori mathemat framework pro...   \n",
       "1  advanced: string theori mathemat framework pro...   \n",
       "2  advanced: string theori mathemat framework pro...   \n",
       "3  advanced: string theori mathemat framework pro...   \n",
       "4  advanced: string theori mathemat framework pro...   \n",
       "5  advanced: string theori mathemat framework pro...   \n",
       "\n",
       "                                          lemmatized  \n",
       "0  Advanced: String theory mathematical framework...  \n",
       "1  Advanced: String theory mathematical framework...  \n",
       "2  Advanced: String theory mathematical framework...  \n",
       "3  Advanced: String theory mathematical framework...  \n",
       "4  Advanced: String theory mathematical framework...  \n",
       "5  Advanced: String theory mathematical framework...  "
      ]
     },
     "execution_count": 27,
     "metadata": {},
     "output_type": "execute_result"
    }
   ],
   "source": [
    "codeup_df"
   ]
  }
 ],
 "metadata": {
  "kernelspec": {
   "display_name": "Python 3 (ipykernel)",
   "language": "python",
   "name": "python3"
  },
  "language_info": {
   "codemirror_mode": {
    "name": "ipython",
    "version": 3
   },
   "file_extension": ".py",
   "mimetype": "text/x-python",
   "name": "python",
   "nbconvert_exporter": "python",
   "pygments_lexer": "ipython3",
   "version": "3.10.9"
  }
 },
 "nbformat": 4,
 "nbformat_minor": 5
}
